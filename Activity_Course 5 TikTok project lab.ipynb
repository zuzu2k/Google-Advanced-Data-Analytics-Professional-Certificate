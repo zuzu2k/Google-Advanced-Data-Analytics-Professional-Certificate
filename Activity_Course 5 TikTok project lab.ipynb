{
 "cells": [
  {
   "cell_type": "markdown",
   "metadata": {
    "id": "DtNBZFHO3M7n"
   },
   "source": [
    "# **TikTok Project**\n",
    "**Course 5 - Regression Analysis: Simplify complex data relationships**"
   ]
  },
  {
   "cell_type": "markdown",
   "metadata": {
    "id": "Gd59VyT2NhgK"
   },
   "source": [
    "You are a data professional at TikTok. The data team is working towards building a machine learning model that can be used to determine whether a video contains a claim or whether it offers an opinion. With a successful prediction model, TikTok can reduce the backlog of user reports and prioritize them more efficiently.\n",
    "\n",
    "The team is getting closer to completing the project, having completed an initial plan of action, initial Python coding work, EDA, and hypothesis testing.\n",
    "\n",
    "The TikTok team has reviewed the results of the hypothesis testing. TikTok’s Operations Lead, Maika Abadi, is interested in how different variables are associated with whether a user is verified. Earlier, the data team observed that if a user is verified, they are much more likely to post opinions. Now, the data team has decided to explore how to predict verified status to help them understand how video characteristics relate to verified users. Therefore, you have been asked to conduct a logistic regression using verified status as the outcome variable. The results may be used to inform the final model related to predicting whether a video is a claim vs an opinion.\n",
    "\n",
    "A notebook was structured and prepared to help you in this project. Please complete the following questions."
   ]
  },
  {
   "cell_type": "markdown",
   "metadata": {
    "id": "rgSbVJvomcVa"
   },
   "source": [
    "# **Course 5 End-of-course project: Regression modeling**\n",
    "\n",
    "\n",
    "In this activity, you will build a logistic regression model in Python. As you have learned, logistic regression helps you estimate the probability of an outcome. For data science professionals, this is a useful skill because it allows you to consider more than one variable against the variable you're measuring against. This opens the door for much more thorough and flexible analysis to be completed.\n",
    "\n",
    "<br/>\n",
    "\n",
    "**The purpose** of this project is to demostrate knowledge of EDA and regression models.\n",
    "\n",
    "**The goal** is to build a logistic regression model and evaluate the model.\n",
    "<br/>\n",
    "*This activity has three parts:*\n",
    "\n",
    "**Part 1:** EDA & Checking Model Assumptions\n",
    "* What are some purposes of EDA before constructing a logistic regression model?\n",
    "\n",
    "**Part 2:** Model Building and Evaluation\n",
    "* What resources do you find yourself using as you complete this stage?\n",
    "\n",
    "**Part 3:** Interpreting Model Results\n",
    "\n",
    "* What key insights emerged from your model(s)?\n",
    "\n",
    "* What business recommendations do you propose based on the models built?\n",
    "\n",
    "Follow the instructions and answer the question below to complete the activity. Then, you will complete an executive summary using the questions listed on the PACE Strategy Document.\n",
    "\n",
    "Be sure to complete this activity before moving on. The next course item will provide you with a completed exemplar to compare to your own work.\n"
   ]
  },
  {
   "cell_type": "markdown",
   "metadata": {
    "id": "7KFOyc3JPSiN"
   },
   "source": [
    "# **Build a regression model**"
   ]
  },
  {
   "cell_type": "markdown",
   "metadata": {
    "id": "3UCHQclzQDUL"
   },
   "source": [
    "<img src=\"images/Pace.png\" width=\"100\" height=\"100\" align=left>\n",
    "\n",
    "# **PACE stages**"
   ]
  },
  {
   "cell_type": "markdown",
   "metadata": {
    "id": "VJfAWkcilRVx"
   },
   "source": [
    "Throughout these project notebooks, you'll see references to the problem-solving framework PACE. The following notebook components are labeled with the respective PACE stage: Plan, Analyze, Construct, and Execute."
   ]
  },
  {
   "cell_type": "markdown",
   "metadata": {
    "id": "F5O5cx_qQJmX"
   },
   "source": [
    "<img src=\"images/Plan.png\" width=\"100\" height=\"100\" align=left>\n",
    "\n",
    "\n",
    "## **PACE: Plan**\n",
    "Consider the questions in your PACE Strategy Document to reflect on the Plan stage."
   ]
  },
  {
   "cell_type": "markdown",
   "metadata": {
    "id": "D8qYlvkLQsf2"
   },
   "source": [
    "### **Task 1. Imports and loading**\n",
    "Import the data and packages that you've learned are needed for building regression models."
   ]
  },
  {
   "cell_type": "code",
   "execution_count": 9,
   "metadata": {
    "id": "tCni9wAGphb0"
   },
   "outputs": [],
   "source": [
    "# Import packages for data manipulation\n",
    "import numpy as np\n",
    "import pandas as pd\n",
    "\n",
    "# Import packages for data visualization\n",
    "from matplotlib import pyplot as plt\n",
    "import seaborn as sns\n",
    "\n",
    "# Import packages for data preprocessing\n",
    "from sklearn.preprocessing import OneHotEncoder\n",
    "from sklearn.utils import resample\n",
    "\n",
    "# Import packages for data modeling\n",
    "from sklearn.model_selection import train_test_split\n",
    "from sklearn.linear_model import LogisticRegression\n",
    "from sklearn.metrics import classification_report\n",
    "from sklearn.metrics import confusion_matrix, ConfusionMatrixDisplay"
   ]
  },
  {
   "cell_type": "markdown",
   "metadata": {
    "id": "LjljvyG32kqe"
   },
   "source": [
    "Load the TikTok dataset.\n",
    "\n",
    "**Note:** As shown in this cell, the dataset has been automatically loaded in for you. You do not need to download the .csv file, or provide more code, in order to access the dataset and proceed with this lab. Please continue with this activity by completing the following instructions."
   ]
  },
  {
   "cell_type": "code",
   "execution_count": 11,
   "metadata": {
    "id": "C9ODhaOppqlw"
   },
   "outputs": [],
   "source": [
    "# Load dataset into dataframe\n",
    "data = pd.read_csv(\"tiktok_dataset.csv\")"
   ]
  },
  {
   "cell_type": "markdown",
   "metadata": {
    "id": "OnrvCSfHUWPv"
   },
   "source": [
    "<img src=\"images/Analyze.png\" width=\"100\" height=\"100\" align=left>\n",
    "\n",
    "## **PACE: Analyze**\n",
    "\n",
    "Consider the questions in your PACE Strategy Document to reflect on the Analyze stage.\n",
    "\n",
    "In this stage, consider the following question where applicable to complete your code response:\n",
    "\n",
    "* What are some purposes of EDA before constructing a logistic regression model?\n"
   ]
  },
  {
   "cell_type": "markdown",
   "metadata": {
    "id": "FZA0zpCSpYIL"
   },
   "source": [
    "lets me get a peep duhh"
   ]
  },
  {
   "cell_type": "markdown",
   "metadata": {
    "id": "rIcDG2e66wt9"
   },
   "source": [
    "### **Task 2a. Explore data with EDA**\n",
    "\n",
    "Analyze the data and check for and handle missing values and duplicates."
   ]
  },
  {
   "cell_type": "markdown",
   "metadata": {
    "id": "JBHl90JIRuXk"
   },
   "source": [
    "Inspect the first five rows of the dataframe."
   ]
  },
  {
   "cell_type": "code",
   "execution_count": 16,
   "metadata": {
    "id": "2rfk95MLp4a_"
   },
   "outputs": [
    {
     "data": {
      "text/html": [
       "<div>\n",
       "<style scoped>\n",
       "    .dataframe tbody tr th:only-of-type {\n",
       "        vertical-align: middle;\n",
       "    }\n",
       "\n",
       "    .dataframe tbody tr th {\n",
       "        vertical-align: top;\n",
       "    }\n",
       "\n",
       "    .dataframe thead th {\n",
       "        text-align: right;\n",
       "    }\n",
       "</style>\n",
       "<table border=\"1\" class=\"dataframe\">\n",
       "  <thead>\n",
       "    <tr style=\"text-align: right;\">\n",
       "      <th></th>\n",
       "      <th>#</th>\n",
       "      <th>claim_status</th>\n",
       "      <th>video_id</th>\n",
       "      <th>video_duration_sec</th>\n",
       "      <th>video_transcription_text</th>\n",
       "      <th>verified_status</th>\n",
       "      <th>author_ban_status</th>\n",
       "      <th>video_view_count</th>\n",
       "      <th>video_like_count</th>\n",
       "      <th>video_share_count</th>\n",
       "      <th>video_download_count</th>\n",
       "      <th>video_comment_count</th>\n",
       "    </tr>\n",
       "  </thead>\n",
       "  <tbody>\n",
       "    <tr>\n",
       "      <th>0</th>\n",
       "      <td>1</td>\n",
       "      <td>claim</td>\n",
       "      <td>7017666017</td>\n",
       "      <td>59</td>\n",
       "      <td>someone shared with me that drone deliveries a...</td>\n",
       "      <td>not verified</td>\n",
       "      <td>under review</td>\n",
       "      <td>343296.0</td>\n",
       "      <td>19425.0</td>\n",
       "      <td>241.0</td>\n",
       "      <td>1.0</td>\n",
       "      <td>0.0</td>\n",
       "    </tr>\n",
       "    <tr>\n",
       "      <th>1</th>\n",
       "      <td>2</td>\n",
       "      <td>claim</td>\n",
       "      <td>4014381136</td>\n",
       "      <td>32</td>\n",
       "      <td>someone shared with me that there are more mic...</td>\n",
       "      <td>not verified</td>\n",
       "      <td>active</td>\n",
       "      <td>140877.0</td>\n",
       "      <td>77355.0</td>\n",
       "      <td>19034.0</td>\n",
       "      <td>1161.0</td>\n",
       "      <td>684.0</td>\n",
       "    </tr>\n",
       "    <tr>\n",
       "      <th>2</th>\n",
       "      <td>3</td>\n",
       "      <td>claim</td>\n",
       "      <td>9859838091</td>\n",
       "      <td>31</td>\n",
       "      <td>someone shared with me that american industria...</td>\n",
       "      <td>not verified</td>\n",
       "      <td>active</td>\n",
       "      <td>902185.0</td>\n",
       "      <td>97690.0</td>\n",
       "      <td>2858.0</td>\n",
       "      <td>833.0</td>\n",
       "      <td>329.0</td>\n",
       "    </tr>\n",
       "    <tr>\n",
       "      <th>3</th>\n",
       "      <td>4</td>\n",
       "      <td>claim</td>\n",
       "      <td>1866847991</td>\n",
       "      <td>25</td>\n",
       "      <td>someone shared with me that the metro of st. p...</td>\n",
       "      <td>not verified</td>\n",
       "      <td>active</td>\n",
       "      <td>437506.0</td>\n",
       "      <td>239954.0</td>\n",
       "      <td>34812.0</td>\n",
       "      <td>1234.0</td>\n",
       "      <td>584.0</td>\n",
       "    </tr>\n",
       "    <tr>\n",
       "      <th>4</th>\n",
       "      <td>5</td>\n",
       "      <td>claim</td>\n",
       "      <td>7105231098</td>\n",
       "      <td>19</td>\n",
       "      <td>someone shared with me that the number of busi...</td>\n",
       "      <td>not verified</td>\n",
       "      <td>active</td>\n",
       "      <td>56167.0</td>\n",
       "      <td>34987.0</td>\n",
       "      <td>4110.0</td>\n",
       "      <td>547.0</td>\n",
       "      <td>152.0</td>\n",
       "    </tr>\n",
       "  </tbody>\n",
       "</table>\n",
       "</div>"
      ],
      "text/plain": [
       "   # claim_status    video_id  video_duration_sec  \\\n",
       "0  1        claim  7017666017                  59   \n",
       "1  2        claim  4014381136                  32   \n",
       "2  3        claim  9859838091                  31   \n",
       "3  4        claim  1866847991                  25   \n",
       "4  5        claim  7105231098                  19   \n",
       "\n",
       "                            video_transcription_text verified_status  \\\n",
       "0  someone shared with me that drone deliveries a...    not verified   \n",
       "1  someone shared with me that there are more mic...    not verified   \n",
       "2  someone shared with me that american industria...    not verified   \n",
       "3  someone shared with me that the metro of st. p...    not verified   \n",
       "4  someone shared with me that the number of busi...    not verified   \n",
       "\n",
       "  author_ban_status  video_view_count  video_like_count  video_share_count  \\\n",
       "0      under review          343296.0           19425.0              241.0   \n",
       "1            active          140877.0           77355.0            19034.0   \n",
       "2            active          902185.0           97690.0             2858.0   \n",
       "3            active          437506.0          239954.0            34812.0   \n",
       "4            active           56167.0           34987.0             4110.0   \n",
       "\n",
       "   video_download_count  video_comment_count  \n",
       "0                   1.0                  0.0  \n",
       "1                1161.0                684.0  \n",
       "2                 833.0                329.0  \n",
       "3                1234.0                584.0  \n",
       "4                 547.0                152.0  "
      ]
     },
     "execution_count": 16,
     "metadata": {},
     "output_type": "execute_result"
    }
   ],
   "source": [
    "# Display first few rows\n",
    "data.head()"
   ]
  },
  {
   "cell_type": "markdown",
   "metadata": {
    "id": "66KOxKCx977b"
   },
   "source": [
    "Get the number of rows and columns in the dataset."
   ]
  },
  {
   "cell_type": "code",
   "execution_count": 18,
   "metadata": {
    "id": "kYwW-G1WqX3R"
   },
   "outputs": [
    {
     "data": {
      "text/plain": [
       "(19382, 12)"
      ]
     },
     "execution_count": 18,
     "metadata": {},
     "output_type": "execute_result"
    }
   ],
   "source": [
    "# Get number of rows and columns\n",
    "data.shape"
   ]
  },
  {
   "cell_type": "markdown",
   "metadata": {
    "id": "aP-NbEGdEio8"
   },
   "source": [
    "Get the data types of the columns."
   ]
  },
  {
   "cell_type": "code",
   "execution_count": 20,
   "metadata": {
    "id": "rbpDgrXfEoVj"
   },
   "outputs": [
    {
     "data": {
      "text/plain": [
       "#                             int64\n",
       "claim_status                 object\n",
       "video_id                      int64\n",
       "video_duration_sec            int64\n",
       "video_transcription_text     object\n",
       "verified_status              object\n",
       "author_ban_status            object\n",
       "video_view_count            float64\n",
       "video_like_count            float64\n",
       "video_share_count           float64\n",
       "video_download_count        float64\n",
       "video_comment_count         float64\n",
       "dtype: object"
      ]
     },
     "execution_count": 20,
     "metadata": {},
     "output_type": "execute_result"
    }
   ],
   "source": [
    "# Get data types of columns\n",
    "data.dtypes"
   ]
  },
  {
   "cell_type": "markdown",
   "metadata": {
    "id": "URuRVjUZ_Axg"
   },
   "source": [
    "Get basic information about the dataset."
   ]
  },
  {
   "cell_type": "code",
   "execution_count": 22,
   "metadata": {
    "id": "zyyKCGzCp7SS"
   },
   "outputs": [
    {
     "name": "stdout",
     "output_type": "stream",
     "text": [
      "<class 'pandas.core.frame.DataFrame'>\n",
      "RangeIndex: 19382 entries, 0 to 19381\n",
      "Data columns (total 12 columns):\n",
      " #   Column                    Non-Null Count  Dtype  \n",
      "---  ------                    --------------  -----  \n",
      " 0   #                         19382 non-null  int64  \n",
      " 1   claim_status              19084 non-null  object \n",
      " 2   video_id                  19382 non-null  int64  \n",
      " 3   video_duration_sec        19382 non-null  int64  \n",
      " 4   video_transcription_text  19084 non-null  object \n",
      " 5   verified_status           19382 non-null  object \n",
      " 6   author_ban_status         19382 non-null  object \n",
      " 7   video_view_count          19084 non-null  float64\n",
      " 8   video_like_count          19084 non-null  float64\n",
      " 9   video_share_count         19084 non-null  float64\n",
      " 10  video_download_count      19084 non-null  float64\n",
      " 11  video_comment_count       19084 non-null  float64\n",
      "dtypes: float64(5), int64(3), object(4)\n",
      "memory usage: 1.8+ MB\n"
     ]
    }
   ],
   "source": [
    "# Get basic information\n",
    "data.info()"
   ]
  },
  {
   "cell_type": "markdown",
   "metadata": {
    "id": "0T5Ieb6WB61Q"
   },
   "source": [
    "Generate basic descriptive statistics about the dataset."
   ]
  },
  {
   "cell_type": "code",
   "execution_count": 24,
   "metadata": {
    "id": "HbpuAS2UqY01"
   },
   "outputs": [
    {
     "data": {
      "text/html": [
       "<div>\n",
       "<style scoped>\n",
       "    .dataframe tbody tr th:only-of-type {\n",
       "        vertical-align: middle;\n",
       "    }\n",
       "\n",
       "    .dataframe tbody tr th {\n",
       "        vertical-align: top;\n",
       "    }\n",
       "\n",
       "    .dataframe thead th {\n",
       "        text-align: right;\n",
       "    }\n",
       "</style>\n",
       "<table border=\"1\" class=\"dataframe\">\n",
       "  <thead>\n",
       "    <tr style=\"text-align: right;\">\n",
       "      <th></th>\n",
       "      <th>#</th>\n",
       "      <th>video_id</th>\n",
       "      <th>video_duration_sec</th>\n",
       "      <th>video_view_count</th>\n",
       "      <th>video_like_count</th>\n",
       "      <th>video_share_count</th>\n",
       "      <th>video_download_count</th>\n",
       "      <th>video_comment_count</th>\n",
       "    </tr>\n",
       "  </thead>\n",
       "  <tbody>\n",
       "    <tr>\n",
       "      <th>count</th>\n",
       "      <td>19382.000000</td>\n",
       "      <td>1.938200e+04</td>\n",
       "      <td>19382.000000</td>\n",
       "      <td>19084.000000</td>\n",
       "      <td>19084.000000</td>\n",
       "      <td>19084.000000</td>\n",
       "      <td>19084.000000</td>\n",
       "      <td>19084.000000</td>\n",
       "    </tr>\n",
       "    <tr>\n",
       "      <th>mean</th>\n",
       "      <td>9691.500000</td>\n",
       "      <td>5.627454e+09</td>\n",
       "      <td>32.421732</td>\n",
       "      <td>254708.558688</td>\n",
       "      <td>84304.636030</td>\n",
       "      <td>16735.248323</td>\n",
       "      <td>1049.429627</td>\n",
       "      <td>349.312146</td>\n",
       "    </tr>\n",
       "    <tr>\n",
       "      <th>std</th>\n",
       "      <td>5595.245794</td>\n",
       "      <td>2.536440e+09</td>\n",
       "      <td>16.229967</td>\n",
       "      <td>322893.280814</td>\n",
       "      <td>133420.546814</td>\n",
       "      <td>32036.174350</td>\n",
       "      <td>2004.299894</td>\n",
       "      <td>799.638865</td>\n",
       "    </tr>\n",
       "    <tr>\n",
       "      <th>min</th>\n",
       "      <td>1.000000</td>\n",
       "      <td>1.234959e+09</td>\n",
       "      <td>5.000000</td>\n",
       "      <td>20.000000</td>\n",
       "      <td>0.000000</td>\n",
       "      <td>0.000000</td>\n",
       "      <td>0.000000</td>\n",
       "      <td>0.000000</td>\n",
       "    </tr>\n",
       "    <tr>\n",
       "      <th>25%</th>\n",
       "      <td>4846.250000</td>\n",
       "      <td>3.430417e+09</td>\n",
       "      <td>18.000000</td>\n",
       "      <td>4942.500000</td>\n",
       "      <td>810.750000</td>\n",
       "      <td>115.000000</td>\n",
       "      <td>7.000000</td>\n",
       "      <td>1.000000</td>\n",
       "    </tr>\n",
       "    <tr>\n",
       "      <th>50%</th>\n",
       "      <td>9691.500000</td>\n",
       "      <td>5.618664e+09</td>\n",
       "      <td>32.000000</td>\n",
       "      <td>9954.500000</td>\n",
       "      <td>3403.500000</td>\n",
       "      <td>717.000000</td>\n",
       "      <td>46.000000</td>\n",
       "      <td>9.000000</td>\n",
       "    </tr>\n",
       "    <tr>\n",
       "      <th>75%</th>\n",
       "      <td>14536.750000</td>\n",
       "      <td>7.843960e+09</td>\n",
       "      <td>47.000000</td>\n",
       "      <td>504327.000000</td>\n",
       "      <td>125020.000000</td>\n",
       "      <td>18222.000000</td>\n",
       "      <td>1156.250000</td>\n",
       "      <td>292.000000</td>\n",
       "    </tr>\n",
       "    <tr>\n",
       "      <th>max</th>\n",
       "      <td>19382.000000</td>\n",
       "      <td>9.999873e+09</td>\n",
       "      <td>60.000000</td>\n",
       "      <td>999817.000000</td>\n",
       "      <td>657830.000000</td>\n",
       "      <td>256130.000000</td>\n",
       "      <td>14994.000000</td>\n",
       "      <td>9599.000000</td>\n",
       "    </tr>\n",
       "  </tbody>\n",
       "</table>\n",
       "</div>"
      ],
      "text/plain": [
       "                  #      video_id  video_duration_sec  video_view_count  \\\n",
       "count  19382.000000  1.938200e+04        19382.000000      19084.000000   \n",
       "mean    9691.500000  5.627454e+09           32.421732     254708.558688   \n",
       "std     5595.245794  2.536440e+09           16.229967     322893.280814   \n",
       "min        1.000000  1.234959e+09            5.000000         20.000000   \n",
       "25%     4846.250000  3.430417e+09           18.000000       4942.500000   \n",
       "50%     9691.500000  5.618664e+09           32.000000       9954.500000   \n",
       "75%    14536.750000  7.843960e+09           47.000000     504327.000000   \n",
       "max    19382.000000  9.999873e+09           60.000000     999817.000000   \n",
       "\n",
       "       video_like_count  video_share_count  video_download_count  \\\n",
       "count      19084.000000       19084.000000          19084.000000   \n",
       "mean       84304.636030       16735.248323           1049.429627   \n",
       "std       133420.546814       32036.174350           2004.299894   \n",
       "min            0.000000           0.000000              0.000000   \n",
       "25%          810.750000         115.000000              7.000000   \n",
       "50%         3403.500000         717.000000             46.000000   \n",
       "75%       125020.000000       18222.000000           1156.250000   \n",
       "max       657830.000000      256130.000000          14994.000000   \n",
       "\n",
       "       video_comment_count  \n",
       "count         19084.000000  \n",
       "mean            349.312146  \n",
       "std             799.638865  \n",
       "min               0.000000  \n",
       "25%               1.000000  \n",
       "50%               9.000000  \n",
       "75%             292.000000  \n",
       "max            9599.000000  "
      ]
     },
     "execution_count": 24,
     "metadata": {},
     "output_type": "execute_result"
    }
   ],
   "source": [
    "# Generate basic descriptive stats\n",
    "data.describe()"
   ]
  },
  {
   "cell_type": "markdown",
   "metadata": {
    "id": "9OpeNQDdyIT6"
   },
   "source": [
    "Check for and handle missing values."
   ]
  },
  {
   "cell_type": "code",
   "execution_count": 26,
   "metadata": {
    "id": "BrunHcfa7xnT"
   },
   "outputs": [
    {
     "data": {
      "text/plain": [
       "#                             0\n",
       "claim_status                298\n",
       "video_id                      0\n",
       "video_duration_sec            0\n",
       "video_transcription_text    298\n",
       "verified_status               0\n",
       "author_ban_status             0\n",
       "video_view_count            298\n",
       "video_like_count            298\n",
       "video_share_count           298\n",
       "video_download_count        298\n",
       "video_comment_count         298\n",
       "dtype: int64"
      ]
     },
     "execution_count": 26,
     "metadata": {},
     "output_type": "execute_result"
    }
   ],
   "source": [
    "# Check for missing values\n",
    "data.isna().sum()"
   ]
  },
  {
   "cell_type": "code",
   "execution_count": 27,
   "metadata": {
    "id": "SHSj1Hma914I"
   },
   "outputs": [],
   "source": [
    "# Drop rows with missing values\n",
    "data = data.dropna(axis=0)"
   ]
  },
  {
   "cell_type": "code",
   "execution_count": 28,
   "metadata": {
    "id": "ZYUF3xap9_Fa"
   },
   "outputs": [
    {
     "data": {
      "text/html": [
       "<div>\n",
       "<style scoped>\n",
       "    .dataframe tbody tr th:only-of-type {\n",
       "        vertical-align: middle;\n",
       "    }\n",
       "\n",
       "    .dataframe tbody tr th {\n",
       "        vertical-align: top;\n",
       "    }\n",
       "\n",
       "    .dataframe thead th {\n",
       "        text-align: right;\n",
       "    }\n",
       "</style>\n",
       "<table border=\"1\" class=\"dataframe\">\n",
       "  <thead>\n",
       "    <tr style=\"text-align: right;\">\n",
       "      <th></th>\n",
       "      <th>#</th>\n",
       "      <th>claim_status</th>\n",
       "      <th>video_id</th>\n",
       "      <th>video_duration_sec</th>\n",
       "      <th>video_transcription_text</th>\n",
       "      <th>verified_status</th>\n",
       "      <th>author_ban_status</th>\n",
       "      <th>video_view_count</th>\n",
       "      <th>video_like_count</th>\n",
       "      <th>video_share_count</th>\n",
       "      <th>video_download_count</th>\n",
       "      <th>video_comment_count</th>\n",
       "    </tr>\n",
       "  </thead>\n",
       "  <tbody>\n",
       "    <tr>\n",
       "      <th>0</th>\n",
       "      <td>1</td>\n",
       "      <td>claim</td>\n",
       "      <td>7017666017</td>\n",
       "      <td>59</td>\n",
       "      <td>someone shared with me that drone deliveries a...</td>\n",
       "      <td>not verified</td>\n",
       "      <td>under review</td>\n",
       "      <td>343296.0</td>\n",
       "      <td>19425.0</td>\n",
       "      <td>241.0</td>\n",
       "      <td>1.0</td>\n",
       "      <td>0.0</td>\n",
       "    </tr>\n",
       "    <tr>\n",
       "      <th>1</th>\n",
       "      <td>2</td>\n",
       "      <td>claim</td>\n",
       "      <td>4014381136</td>\n",
       "      <td>32</td>\n",
       "      <td>someone shared with me that there are more mic...</td>\n",
       "      <td>not verified</td>\n",
       "      <td>active</td>\n",
       "      <td>140877.0</td>\n",
       "      <td>77355.0</td>\n",
       "      <td>19034.0</td>\n",
       "      <td>1161.0</td>\n",
       "      <td>684.0</td>\n",
       "    </tr>\n",
       "    <tr>\n",
       "      <th>2</th>\n",
       "      <td>3</td>\n",
       "      <td>claim</td>\n",
       "      <td>9859838091</td>\n",
       "      <td>31</td>\n",
       "      <td>someone shared with me that american industria...</td>\n",
       "      <td>not verified</td>\n",
       "      <td>active</td>\n",
       "      <td>902185.0</td>\n",
       "      <td>97690.0</td>\n",
       "      <td>2858.0</td>\n",
       "      <td>833.0</td>\n",
       "      <td>329.0</td>\n",
       "    </tr>\n",
       "    <tr>\n",
       "      <th>3</th>\n",
       "      <td>4</td>\n",
       "      <td>claim</td>\n",
       "      <td>1866847991</td>\n",
       "      <td>25</td>\n",
       "      <td>someone shared with me that the metro of st. p...</td>\n",
       "      <td>not verified</td>\n",
       "      <td>active</td>\n",
       "      <td>437506.0</td>\n",
       "      <td>239954.0</td>\n",
       "      <td>34812.0</td>\n",
       "      <td>1234.0</td>\n",
       "      <td>584.0</td>\n",
       "    </tr>\n",
       "    <tr>\n",
       "      <th>4</th>\n",
       "      <td>5</td>\n",
       "      <td>claim</td>\n",
       "      <td>7105231098</td>\n",
       "      <td>19</td>\n",
       "      <td>someone shared with me that the number of busi...</td>\n",
       "      <td>not verified</td>\n",
       "      <td>active</td>\n",
       "      <td>56167.0</td>\n",
       "      <td>34987.0</td>\n",
       "      <td>4110.0</td>\n",
       "      <td>547.0</td>\n",
       "      <td>152.0</td>\n",
       "    </tr>\n",
       "  </tbody>\n",
       "</table>\n",
       "</div>"
      ],
      "text/plain": [
       "   # claim_status    video_id  video_duration_sec  \\\n",
       "0  1        claim  7017666017                  59   \n",
       "1  2        claim  4014381136                  32   \n",
       "2  3        claim  9859838091                  31   \n",
       "3  4        claim  1866847991                  25   \n",
       "4  5        claim  7105231098                  19   \n",
       "\n",
       "                            video_transcription_text verified_status  \\\n",
       "0  someone shared with me that drone deliveries a...    not verified   \n",
       "1  someone shared with me that there are more mic...    not verified   \n",
       "2  someone shared with me that american industria...    not verified   \n",
       "3  someone shared with me that the metro of st. p...    not verified   \n",
       "4  someone shared with me that the number of busi...    not verified   \n",
       "\n",
       "  author_ban_status  video_view_count  video_like_count  video_share_count  \\\n",
       "0      under review          343296.0           19425.0              241.0   \n",
       "1            active          140877.0           77355.0            19034.0   \n",
       "2            active          902185.0           97690.0             2858.0   \n",
       "3            active          437506.0          239954.0            34812.0   \n",
       "4            active           56167.0           34987.0             4110.0   \n",
       "\n",
       "   video_download_count  video_comment_count  \n",
       "0                   1.0                  0.0  \n",
       "1                1161.0                684.0  \n",
       "2                 833.0                329.0  \n",
       "3                1234.0                584.0  \n",
       "4                 547.0                152.0  "
      ]
     },
     "execution_count": 28,
     "metadata": {},
     "output_type": "execute_result"
    }
   ],
   "source": [
    "# Display first few rows after handling missing values\n",
    "data.head()"
   ]
  },
  {
   "cell_type": "markdown",
   "metadata": {
    "id": "XcfffpANyNiu"
   },
   "source": [
    "Check for and handle duplicates."
   ]
  },
  {
   "cell_type": "code",
   "execution_count": 30,
   "metadata": {
    "id": "IKaGnWIsiHpH"
   },
   "outputs": [
    {
     "data": {
      "text/plain": [
       "0"
      ]
     },
     "execution_count": 30,
     "metadata": {},
     "output_type": "execute_result"
    }
   ],
   "source": [
    "# Check for duplicates\n",
    "data.duplicated(subset='video_id').sum()"
   ]
  },
  {
   "cell_type": "markdown",
   "metadata": {
    "id": "k-HcHpGc5Hn7"
   },
   "source": [
    "Check for and handle outliers."
   ]
  },
  {
   "cell_type": "code",
   "execution_count": 32,
   "metadata": {
    "id": "Ts_lcV6qUQHq"
   },
   "outputs": [
    {
     "data": {
      "text/plain": [
       "<Axes: xlabel='video_duration_sec'>"
      ]
     },
     "execution_count": 32,
     "metadata": {},
     "output_type": "execute_result"
    },
    {
     "data": {
      "image/png": "[encoded data removed]",
      "text/plain": [
       "<Figure size 1000x100 with 1 Axes>"
      ]
     },
     "metadata": {},
     "output_type": "display_data"
    }
   ],
   "source": [
    "# Create a boxplot to visualize distribution of `video_duration_sec`\n",
    "plt.figure(figsize=(10, 1))\n",
    "sns.boxplot(data=data,\n",
    "            x='video_duration_sec',\n",
    "            showfliers=True)"
   ]
  },
  {
   "cell_type": "code",
   "execution_count": 33,
   "metadata": {
    "id": "qlUccI91a4NH"
   },
   "outputs": [
    {
     "data": {
      "text/plain": [
       "<Axes: xlabel='video_view_count'>"
      ]
     },
     "execution_count": 33,
     "metadata": {},
     "output_type": "execute_result"
    },
    {
     "data": {
      "image/png": "[encoded data removed]",
      "text/plain": [
       "<Figure size 1000x100 with 1 Axes>"
      ]
     },
     "metadata": {},
     "output_type": "display_data"
    }
   ],
   "source": [
    "# Create a boxplot to visualize distribution of `video_view_count`\n",
    "plt.figure(figsize=(10, 1))\n",
    "sns.boxplot(data=data,\n",
    "            x='video_view_count',\n",
    "            showfliers=True)"
   ]
  },
  {
   "cell_type": "code",
   "execution_count": 34,
   "metadata": {
    "id": "N0UVdeRUzEEF"
   },
   "outputs": [
    {
     "data": {
      "text/plain": [
       "<Axes: xlabel='video_like_count'>"
      ]
     },
     "execution_count": 34,
     "metadata": {},
     "output_type": "execute_result"
    },
    {
     "data": {
      "image/png": "[encoded data removed]",
      "text/plain": [
       "<Figure size 1000x100 with 1 Axes>"
      ]
     },
     "metadata": {},
     "output_type": "display_data"
    }
   ],
   "source": [
    "# Create a boxplot to visualize distribution of `video_like_count`\n",
    "plt.figure(figsize=(10, 1))\n",
    "sns.boxplot(data=data,\n",
    "            x='video_like_count',\n",
    "            showfliers=True)"
   ]
  },
  {
   "cell_type": "code",
   "execution_count": 35,
   "metadata": {
    "id": "-gE1fkGo0eG9"
   },
   "outputs": [
    {
     "data": {
      "text/plain": [
       "<Axes: xlabel='video_comment_count'>"
      ]
     },
     "execution_count": 35,
     "metadata": {},
     "output_type": "execute_result"
    },
    {
     "data": {
      "image/png": "[encoded data removed]",
      "text/plain": [
       "<Figure size 1000x100 with 1 Axes>"
      ]
     },
     "metadata": {},
     "output_type": "display_data"
    }
   ],
   "source": [
    "# Create a boxplot to visualize distribution of `video_comment_count`\n",
    "plt.figure(figsize=(10, 1))\n",
    "sns.boxplot(data=data,\n",
    "            x='video_comment_count',\n",
    "            showfliers=True)"
   ]
  },
  {
   "cell_type": "code",
   "execution_count": 36,
   "metadata": {
    "id": "85JfQprd5Kn9"
   },
   "outputs": [
    {
     "name": "stdout",
     "output_type": "stream",
     "text": [
      "(0, 12)\n",
      "(1726, 12)\n"
     ]
    }
   ],
   "source": [
    "# Check for and handle outliers for video_like_count\n",
    "q1 = data['video_like_count'].quantile(0.25)\n",
    "q3 = data['video_like_count'].quantile(0.75)\n",
    "\n",
    "iqr = q3 - q1\n",
    "\n",
    "lower_limit = q1 - 1.5 * iqr\n",
    "upper_limit = q3 + 1.5 * iqr\n",
    "\n",
    "print(data[data['video_like_count'] < lower_limit].shape)\n",
    "print(data[data['video_like_count'] > upper_limit].shape)\n",
    "\n",
    "inliers = (data['video_like_count'] >= lower_limit) & (data['video_like_count'] <= upper_limit)\n",
    "\n",
    "data = data[inliers]"
   ]
  },
  {
   "cell_type": "markdown",
   "metadata": {
    "id": "eDcY0ZaEJgDl"
   },
   "source": [
    "Check class balance."
   ]
  },
  {
   "cell_type": "code",
   "execution_count": 38,
   "metadata": {
    "id": "e3klRqlsJhtp"
   },
   "outputs": [
    {
     "data": {
      "text/plain": [
       "video_comment_count\n",
       "0.0       0.197603\n",
       "1.0       0.128010\n",
       "2.0       0.063141\n",
       "3.0       0.045282\n",
       "4.0       0.031225\n",
       "            ...   \n",
       "3288.0    0.000058\n",
       "4067.0    0.000058\n",
       "872.0     0.000058\n",
       "3706.0    0.000058\n",
       "1006.0    0.000058\n",
       "Name: proportion, Length: 1775, dtype: float64"
      ]
     },
     "execution_count": 38,
     "metadata": {},
     "output_type": "execute_result"
    }
   ],
   "source": [
    "# Check class balance for video_comment_count\n",
    "data['video_comment_count'].value_counts(normalize=True)"
   ]
  },
  {
   "cell_type": "code",
   "execution_count": 39,
   "metadata": {},
   "outputs": [
    {
     "data": {
      "text/plain": [
       "verified_status\n",
       "not verified    0.933287\n",
       "verified        0.066713\n",
       "Name: proportion, dtype: float64"
      ]
     },
     "execution_count": 39,
     "metadata": {},
     "output_type": "execute_result"
    }
   ],
   "source": [
    "data['verified_status'].value_counts(normalize=True)"
   ]
  },
  {
   "cell_type": "markdown",
   "metadata": {
    "id": "ePYWt2p5LqlW"
   },
   "source": [
    "Approximately 94.2% of the dataset represents videos posted by unverified accounts and 5.8% represents videos posted by verified accounts. So the outcome variable is not very balanced."
   ]
  },
  {
   "cell_type": "markdown",
   "metadata": {
    "id": "zRDMuXjbA9KQ"
   },
   "source": [
    "Use resampling to create class balance in the outcome variable, if needed."
   ]
  },
  {
   "cell_type": "code",
   "execution_count": 42,
   "metadata": {
    "id": "AWhetFT3Ggyp"
   },
   "outputs": [
    {
     "data": {
      "text/plain": [
       "verified_status\n",
       "not verified    16200\n",
       "verified        16200\n",
       "Name: count, dtype: int64"
      ]
     },
     "execution_count": 42,
     "metadata": {},
     "output_type": "execute_result"
    }
   ],
   "source": [
    "# Use resampling to create class balance in the outcome variable, if needed\n",
    "\n",
    "# Identify data points from majority and minority classes\n",
    "data_majority = data[data['verified_status'] == 'not verified']\n",
    "data_minority = data[data['verified_status'] == 'verified']\n",
    "\n",
    "# Upsample the minority class (which is \"verified\")\n",
    "data_minority_upsampled = resample(data_minority,\n",
    "                                   replace=True,\n",
    "                                   n_samples=len(data_majority),\n",
    "                                   random_state=40563)\n",
    "\n",
    "# Combine majority class with upsampled minority class\n",
    "data_upsampled = pd.concat([data_majority, data_minority_upsampled]).reset_index(drop=True)\n",
    "\n",
    "# Display new class counts\n",
    "data_upsampled[\"verified_status\"].value_counts()"
   ]
  },
  {
   "cell_type": "markdown",
   "metadata": {
    "id": "K2RHONw6D3R6"
   },
   "source": [
    "Get the average `video_transcription_text` length for videos posted by verified accounts and the average `video_transcription_text` length for videos posted by unverified accounts.\n",
    "\n"
   ]
  },
  {
   "cell_type": "code",
   "execution_count": 44,
   "metadata": {
    "id": "w-aaFCPCD88e"
   },
   "outputs": [
    {
     "data": {
      "text/html": [
       "<div>\n",
       "<style scoped>\n",
       "    .dataframe tbody tr th:only-of-type {\n",
       "        vertical-align: middle;\n",
       "    }\n",
       "\n",
       "    .dataframe tbody tr th {\n",
       "        vertical-align: top;\n",
       "    }\n",
       "\n",
       "    .dataframe thead th {\n",
       "        text-align: right;\n",
       "    }\n",
       "</style>\n",
       "<table border=\"1\" class=\"dataframe\">\n",
       "  <thead>\n",
       "    <tr style=\"text-align: right;\">\n",
       "      <th></th>\n",
       "      <th>video_transcription_text</th>\n",
       "    </tr>\n",
       "    <tr>\n",
       "      <th>claim_status</th>\n",
       "      <th></th>\n",
       "    </tr>\n",
       "  </thead>\n",
       "  <tbody>\n",
       "    <tr>\n",
       "      <th>claim</th>\n",
       "      <td>95.191094</td>\n",
       "    </tr>\n",
       "    <tr>\n",
       "      <th>opinion</th>\n",
       "      <td>82.315161</td>\n",
       "    </tr>\n",
       "  </tbody>\n",
       "</table>\n",
       "</div>"
      ],
      "text/plain": [
       "              video_transcription_text\n",
       "claim_status                          \n",
       "claim                        95.191094\n",
       "opinion                      82.315161"
      ]
     },
     "execution_count": 44,
     "metadata": {},
     "output_type": "execute_result"
    }
   ],
   "source": [
    "# Get the average `video_transcription_text` length for claims and the average `video_transcription_text` length for opinions\n",
    "data_upsampled[['claim_status', 'video_transcription_text']].groupby(by='claim_status')[['video_transcription_text']].agg(func=lambda array: np.mean([len(text) for text in array]))"
   ]
  },
  {
   "cell_type": "markdown",
   "metadata": {
    "id": "hb_u1c6_T1i-"
   },
   "source": [
    "Extract the length of each `video_transcription_text` and add this as a column to the dataframe, so that it can be used as a potential feature in the model."
   ]
  },
  {
   "cell_type": "code",
   "execution_count": 46,
   "metadata": {
    "id": "8Yr9hhhVHeYY"
   },
   "outputs": [],
   "source": [
    "# Extract the length of each `video_transcription_text` and add this as a column to the dataframe\n",
    "data_upsampled['transcription_text_length'] = [len(text) for text in data_upsampled['video_transcription_text']]"
   ]
  },
  {
   "cell_type": "code",
   "execution_count": 47,
   "metadata": {
    "id": "Vzg0J8UEJ1wx"
   },
   "outputs": [
    {
     "data": {
      "text/html": [
       "<div>\n",
       "<style scoped>\n",
       "    .dataframe tbody tr th:only-of-type {\n",
       "        vertical-align: middle;\n",
       "    }\n",
       "\n",
       "    .dataframe tbody tr th {\n",
       "        vertical-align: top;\n",
       "    }\n",
       "\n",
       "    .dataframe thead th {\n",
       "        text-align: right;\n",
       "    }\n",
       "</style>\n",
       "<table border=\"1\" class=\"dataframe\">\n",
       "  <thead>\n",
       "    <tr style=\"text-align: right;\">\n",
       "      <th></th>\n",
       "      <th>#</th>\n",
       "      <th>claim_status</th>\n",
       "      <th>video_id</th>\n",
       "      <th>video_duration_sec</th>\n",
       "      <th>video_transcription_text</th>\n",
       "      <th>verified_status</th>\n",
       "      <th>author_ban_status</th>\n",
       "      <th>video_view_count</th>\n",
       "      <th>video_like_count</th>\n",
       "      <th>video_share_count</th>\n",
       "      <th>video_download_count</th>\n",
       "      <th>video_comment_count</th>\n",
       "      <th>transcription_text_length</th>\n",
       "    </tr>\n",
       "  </thead>\n",
       "  <tbody>\n",
       "    <tr>\n",
       "      <th>0</th>\n",
       "      <td>1</td>\n",
       "      <td>claim</td>\n",
       "      <td>7017666017</td>\n",
       "      <td>59</td>\n",
       "      <td>someone shared with me that drone deliveries a...</td>\n",
       "      <td>not verified</td>\n",
       "      <td>under review</td>\n",
       "      <td>343296.0</td>\n",
       "      <td>19425.0</td>\n",
       "      <td>241.0</td>\n",
       "      <td>1.0</td>\n",
       "      <td>0.0</td>\n",
       "      <td>97</td>\n",
       "    </tr>\n",
       "    <tr>\n",
       "      <th>1</th>\n",
       "      <td>2</td>\n",
       "      <td>claim</td>\n",
       "      <td>4014381136</td>\n",
       "      <td>32</td>\n",
       "      <td>someone shared with me that there are more mic...</td>\n",
       "      <td>not verified</td>\n",
       "      <td>active</td>\n",
       "      <td>140877.0</td>\n",
       "      <td>77355.0</td>\n",
       "      <td>19034.0</td>\n",
       "      <td>1161.0</td>\n",
       "      <td>684.0</td>\n",
       "      <td>107</td>\n",
       "    </tr>\n",
       "    <tr>\n",
       "      <th>2</th>\n",
       "      <td>3</td>\n",
       "      <td>claim</td>\n",
       "      <td>9859838091</td>\n",
       "      <td>31</td>\n",
       "      <td>someone shared with me that american industria...</td>\n",
       "      <td>not verified</td>\n",
       "      <td>active</td>\n",
       "      <td>902185.0</td>\n",
       "      <td>97690.0</td>\n",
       "      <td>2858.0</td>\n",
       "      <td>833.0</td>\n",
       "      <td>329.0</td>\n",
       "      <td>137</td>\n",
       "    </tr>\n",
       "    <tr>\n",
       "      <th>3</th>\n",
       "      <td>4</td>\n",
       "      <td>claim</td>\n",
       "      <td>1866847991</td>\n",
       "      <td>25</td>\n",
       "      <td>someone shared with me that the metro of st. p...</td>\n",
       "      <td>not verified</td>\n",
       "      <td>active</td>\n",
       "      <td>437506.0</td>\n",
       "      <td>239954.0</td>\n",
       "      <td>34812.0</td>\n",
       "      <td>1234.0</td>\n",
       "      <td>584.0</td>\n",
       "      <td>131</td>\n",
       "    </tr>\n",
       "    <tr>\n",
       "      <th>4</th>\n",
       "      <td>5</td>\n",
       "      <td>claim</td>\n",
       "      <td>7105231098</td>\n",
       "      <td>19</td>\n",
       "      <td>someone shared with me that the number of busi...</td>\n",
       "      <td>not verified</td>\n",
       "      <td>active</td>\n",
       "      <td>56167.0</td>\n",
       "      <td>34987.0</td>\n",
       "      <td>4110.0</td>\n",
       "      <td>547.0</td>\n",
       "      <td>152.0</td>\n",
       "      <td>128</td>\n",
       "    </tr>\n",
       "  </tbody>\n",
       "</table>\n",
       "</div>"
      ],
      "text/plain": [
       "   # claim_status    video_id  video_duration_sec  \\\n",
       "0  1        claim  7017666017                  59   \n",
       "1  2        claim  4014381136                  32   \n",
       "2  3        claim  9859838091                  31   \n",
       "3  4        claim  1866847991                  25   \n",
       "4  5        claim  7105231098                  19   \n",
       "\n",
       "                            video_transcription_text verified_status  \\\n",
       "0  someone shared with me that drone deliveries a...    not verified   \n",
       "1  someone shared with me that there are more mic...    not verified   \n",
       "2  someone shared with me that american industria...    not verified   \n",
       "3  someone shared with me that the metro of st. p...    not verified   \n",
       "4  someone shared with me that the number of busi...    not verified   \n",
       "\n",
       "  author_ban_status  video_view_count  video_like_count  video_share_count  \\\n",
       "0      under review          343296.0           19425.0              241.0   \n",
       "1            active          140877.0           77355.0            19034.0   \n",
       "2            active          902185.0           97690.0             2858.0   \n",
       "3            active          437506.0          239954.0            34812.0   \n",
       "4            active           56167.0           34987.0             4110.0   \n",
       "\n",
       "   video_download_count  video_comment_count  transcription_text_length  \n",
       "0                   1.0                  0.0                         97  \n",
       "1                1161.0                684.0                        107  \n",
       "2                 833.0                329.0                        137  \n",
       "3                1234.0                584.0                        131  \n",
       "4                 547.0                152.0                        128  "
      ]
     },
     "execution_count": 47,
     "metadata": {},
     "output_type": "execute_result"
    }
   ],
   "source": [
    "# Display first few rows of dataframe after adding new column\n",
    "data_upsampled.head()"
   ]
  },
  {
   "cell_type": "markdown",
   "metadata": {
    "id": "LGu7ipi4AJmP"
   },
   "source": [
    "Visualize the distribution of `video_transcription_text` length for videos posted by verified accounts and videos posted by unverified accounts."
   ]
  },
  {
   "cell_type": "code",
   "execution_count": 49,
   "metadata": {
    "id": "MSq136S3TIYe"
   },
   "outputs": [
    {
     "data": {
      "text/plain": [
       "<Axes: xlabel='transcription_text_length', ylabel='Count'>"
      ]
     },
     "execution_count": 49,
     "metadata": {},
     "output_type": "execute_result"
    },
    {
     "data": {
      "image/png": "[encoded data removed]",
      "text/plain": [
       "<Figure size 640x480 with 1 Axes>"
      ]
     },
     "metadata": {},
     "output_type": "display_data"
    }
   ],
   "source": [
    "# Visualize the distribution of `video_transcription_text` length for videos posted by verified accounts and videos posted by unverified accounts\n",
    "# Create two histograms in one plot\n",
    "sns.histplot(data=data_upsampled,\n",
    "             x='transcription_text_length',\n",
    "             hue='verified_status',\n",
    "             multiple='stack',\n",
    "             alpha=0.5)"
   ]
  },
  {
   "cell_type": "markdown",
   "metadata": {
    "id": "KlF7ZNSyW0yV"
   },
   "source": [
    "### **Task 2b. Examine correlations**"
   ]
  },
  {
   "cell_type": "markdown",
   "metadata": {
    "id": "pKkx6FvS4OpI"
   },
   "source": [
    "Next, code a correlation matrix to help determine most correlated variables."
   ]
  },
  {
   "cell_type": "code",
   "execution_count": 52,
   "metadata": {
    "id": "KCEzE-gwL5gq"
   },
   "outputs": [
    {
     "data": {
      "text/html": [
       "<div>\n",
       "<style scoped>\n",
       "    .dataframe tbody tr th:only-of-type {\n",
       "        vertical-align: middle;\n",
       "    }\n",
       "\n",
       "    .dataframe tbody tr th {\n",
       "        vertical-align: top;\n",
       "    }\n",
       "\n",
       "    .dataframe thead th {\n",
       "        text-align: right;\n",
       "    }\n",
       "</style>\n",
       "<table border=\"1\" class=\"dataframe\">\n",
       "  <thead>\n",
       "    <tr style=\"text-align: right;\">\n",
       "      <th></th>\n",
       "      <th>#</th>\n",
       "      <th>video_id</th>\n",
       "      <th>video_duration_sec</th>\n",
       "      <th>video_view_count</th>\n",
       "      <th>video_like_count</th>\n",
       "      <th>video_share_count</th>\n",
       "      <th>video_download_count</th>\n",
       "      <th>video_comment_count</th>\n",
       "      <th>transcription_text_length</th>\n",
       "    </tr>\n",
       "  </thead>\n",
       "  <tbody>\n",
       "    <tr>\n",
       "      <th>#</th>\n",
       "      <td>1.000000</td>\n",
       "      <td>0.002818</td>\n",
       "      <td>-0.012329</td>\n",
       "      <td>-0.677822</td>\n",
       "      <td>-0.614184</td>\n",
       "      <td>-0.528357</td>\n",
       "      <td>-0.522342</td>\n",
       "      <td>-0.445639</td>\n",
       "      <td>-0.183127</td>\n",
       "    </tr>\n",
       "    <tr>\n",
       "      <th>video_id</th>\n",
       "      <td>0.002818</td>\n",
       "      <td>1.000000</td>\n",
       "      <td>0.007648</td>\n",
       "      <td>0.003797</td>\n",
       "      <td>0.000750</td>\n",
       "      <td>-0.006031</td>\n",
       "      <td>0.000751</td>\n",
       "      <td>-0.000278</td>\n",
       "      <td>-0.009899</td>\n",
       "    </tr>\n",
       "    <tr>\n",
       "      <th>video_duration_sec</th>\n",
       "      <td>-0.012329</td>\n",
       "      <td>0.007648</td>\n",
       "      <td>1.000000</td>\n",
       "      <td>0.012833</td>\n",
       "      <td>0.006363</td>\n",
       "      <td>0.009150</td>\n",
       "      <td>0.008618</td>\n",
       "      <td>-0.003998</td>\n",
       "      <td>-0.009652</td>\n",
       "    </tr>\n",
       "    <tr>\n",
       "      <th>video_view_count</th>\n",
       "      <td>-0.677822</td>\n",
       "      <td>0.003797</td>\n",
       "      <td>0.012833</td>\n",
       "      <td>1.000000</td>\n",
       "      <td>0.797366</td>\n",
       "      <td>0.680070</td>\n",
       "      <td>0.668496</td>\n",
       "      <td>0.562515</td>\n",
       "      <td>0.233721</td>\n",
       "    </tr>\n",
       "    <tr>\n",
       "      <th>video_like_count</th>\n",
       "      <td>-0.614184</td>\n",
       "      <td>0.000750</td>\n",
       "      <td>0.006363</td>\n",
       "      <td>0.797366</td>\n",
       "      <td>1.000000</td>\n",
       "      <td>0.851420</td>\n",
       "      <td>0.839990</td>\n",
       "      <td>0.714735</td>\n",
       "      <td>0.199265</td>\n",
       "    </tr>\n",
       "    <tr>\n",
       "      <th>video_share_count</th>\n",
       "      <td>-0.528357</td>\n",
       "      <td>-0.006031</td>\n",
       "      <td>0.009150</td>\n",
       "      <td>0.680070</td>\n",
       "      <td>0.851420</td>\n",
       "      <td>1.000000</td>\n",
       "      <td>0.704025</td>\n",
       "      <td>0.610483</td>\n",
       "      <td>0.162418</td>\n",
       "    </tr>\n",
       "    <tr>\n",
       "      <th>video_download_count</th>\n",
       "      <td>-0.522342</td>\n",
       "      <td>0.000751</td>\n",
       "      <td>0.008618</td>\n",
       "      <td>0.668496</td>\n",
       "      <td>0.839990</td>\n",
       "      <td>0.704025</td>\n",
       "      <td>1.000000</td>\n",
       "      <td>0.857748</td>\n",
       "      <td>0.172194</td>\n",
       "    </tr>\n",
       "    <tr>\n",
       "      <th>video_comment_count</th>\n",
       "      <td>-0.445639</td>\n",
       "      <td>-0.000278</td>\n",
       "      <td>-0.003998</td>\n",
       "      <td>0.562515</td>\n",
       "      <td>0.714735</td>\n",
       "      <td>0.610483</td>\n",
       "      <td>0.857748</td>\n",
       "      <td>1.000000</td>\n",
       "      <td>0.138953</td>\n",
       "    </tr>\n",
       "    <tr>\n",
       "      <th>transcription_text_length</th>\n",
       "      <td>-0.183127</td>\n",
       "      <td>-0.009899</td>\n",
       "      <td>-0.009652</td>\n",
       "      <td>0.233721</td>\n",
       "      <td>0.199265</td>\n",
       "      <td>0.162418</td>\n",
       "      <td>0.172194</td>\n",
       "      <td>0.138953</td>\n",
       "      <td>1.000000</td>\n",
       "    </tr>\n",
       "  </tbody>\n",
       "</table>\n",
       "</div>"
      ],
      "text/plain": [
       "                                  #  video_id  video_duration_sec  \\\n",
       "#                          1.000000  0.002818           -0.012329   \n",
       "video_id                   0.002818  1.000000            0.007648   \n",
       "video_duration_sec        -0.012329  0.007648            1.000000   \n",
       "video_view_count          -0.677822  0.003797            0.012833   \n",
       "video_like_count          -0.614184  0.000750            0.006363   \n",
       "video_share_count         -0.528357 -0.006031            0.009150   \n",
       "video_download_count      -0.522342  0.000751            0.008618   \n",
       "video_comment_count       -0.445639 -0.000278           -0.003998   \n",
       "transcription_text_length -0.183127 -0.009899           -0.009652   \n",
       "\n",
       "                           video_view_count  video_like_count  \\\n",
       "#                                 -0.677822         -0.614184   \n",
       "video_id                           0.003797          0.000750   \n",
       "video_duration_sec                 0.012833          0.006363   \n",
       "video_view_count                   1.000000          0.797366   \n",
       "video_like_count                   0.797366          1.000000   \n",
       "video_share_count                  0.680070          0.851420   \n",
       "video_download_count               0.668496          0.839990   \n",
       "video_comment_count                0.562515          0.714735   \n",
       "transcription_text_length          0.233721          0.199265   \n",
       "\n",
       "                           video_share_count  video_download_count  \\\n",
       "#                                  -0.528357             -0.522342   \n",
       "video_id                           -0.006031              0.000751   \n",
       "video_duration_sec                  0.009150              0.008618   \n",
       "video_view_count                    0.680070              0.668496   \n",
       "video_like_count                    0.851420              0.839990   \n",
       "video_share_count                   1.000000              0.704025   \n",
       "video_download_count                0.704025              1.000000   \n",
       "video_comment_count                 0.610483              0.857748   \n",
       "transcription_text_length           0.162418              0.172194   \n",
       "\n",
       "                           video_comment_count  transcription_text_length  \n",
       "#                                    -0.445639                  -0.183127  \n",
       "video_id                             -0.000278                  -0.009899  \n",
       "video_duration_sec                   -0.003998                  -0.009652  \n",
       "video_view_count                      0.562515                   0.233721  \n",
       "video_like_count                      0.714735                   0.199265  \n",
       "video_share_count                     0.610483                   0.162418  \n",
       "video_download_count                  0.857748                   0.172194  \n",
       "video_comment_count                   1.000000                   0.138953  \n",
       "transcription_text_length             0.138953                   1.000000  "
      ]
     },
     "execution_count": 52,
     "metadata": {},
     "output_type": "execute_result"
    }
   ],
   "source": [
    "# Code a correlation matrix to help determine most correlated variables\n",
    "data_upsampled.corr(numeric_only=True)"
   ]
  },
  {
   "cell_type": "markdown",
   "metadata": {
    "id": "6Ldmks6g4ZzE"
   },
   "source": [
    "Visualize a correlation heatmap of the data."
   ]
  },
  {
   "cell_type": "code",
   "execution_count": 54,
   "metadata": {
    "id": "8Ti_MFF7tekR"
   },
   "outputs": [
    {
     "data": {
      "text/plain": [
       "<Axes: >"
      ]
     },
     "execution_count": 54,
     "metadata": {},
     "output_type": "execute_result"
    },
    {
     "data": {
      "image/png": "[encoded data removed]",
      "text/plain": [
       "<Figure size 640x480 with 2 Axes>"
      ]
     },
     "metadata": {},
     "output_type": "display_data"
    }
   ],
   "source": [
    "# Create a heatmap to visualize how correlated variables are\n",
    "sns.heatmap(data_upsampled[['video_duration_sec', 'claim_status', 'author_ban_status', 'video_view_count',\n",
    "                            'video_like_count', 'video_share_count', 'video_download_count', 'video_comment_count', 'transcription_text_length']]\n",
    "            .corr(numeric_only=True),\n",
    "            annot=True,\n",
    "            cmap='crest')"
   ]
  },
  {
   "cell_type": "markdown",
   "metadata": {
    "id": "zyQgcrDI00bT"
   },
   "source": [
    "One of the model assumptions for logistic regression is no severe multicollinearity among the features. Take this into consideration as you examine the heatmap and choose which features to proceed with.\n",
    "\n",
    "**Question:** What variables are shown to be correlated in the heatmap?\n",
    "\n",
    "- `video_view_count` and `video_like_count`\n",
    "- `video_like_count` and `video_share_count`\n",
    "- `video_like_count` and `video_download_count`\n",
    "- `video_download_count` and `video_comment_count`"
   ]
  },
  {
   "cell_type": "markdown",
   "metadata": {
    "id": "lgPul2DiY6T4"
   },
   "source": [
    "<img src=\"images/Construct.png\" width=\"100\" height=\"100\" align=left>\n",
    "\n",
    "## **PACE: Construct**\n",
    "\n",
    "After analysis and deriving variables with close relationships, it is time to begin constructing the model. Consider the questions in your PACE Strategy Document to reflect on the Construct stage."
   ]
  },
  {
   "cell_type": "markdown",
   "metadata": {
    "id": "07UJJm41ajgf"
   },
   "source": [
    "### **Task 3a. Select variables**"
   ]
  },
  {
   "cell_type": "markdown",
   "metadata": {
    "id": "DxCW0RH_4m3Q"
   },
   "source": [
    "Set your Y and X variables."
   ]
  },
  {
   "cell_type": "markdown",
   "metadata": {
    "id": "WhocrccZBcwx"
   },
   "source": [
    "Select the outcome variable."
   ]
  },
  {
   "cell_type": "code",
   "execution_count": 60,
   "metadata": {
    "id": "uH6jiQECBgFn"
   },
   "outputs": [],
   "source": [
    "# Select outcome variable\n",
    "y = data_upsampled['verified_status']"
   ]
  },
  {
   "cell_type": "markdown",
   "metadata": {
    "id": "WPxEovpUBZfk"
   },
   "source": [
    "Select the features."
   ]
  },
  {
   "cell_type": "code",
   "execution_count": 62,
   "metadata": {
    "id": "iJ5C6M5zCP3k"
   },
   "outputs": [
    {
     "data": {
      "text/html": [
       "<div>\n",
       "<style scoped>\n",
       "    .dataframe tbody tr th:only-of-type {\n",
       "        vertical-align: middle;\n",
       "    }\n",
       "\n",
       "    .dataframe tbody tr th {\n",
       "        vertical-align: top;\n",
       "    }\n",
       "\n",
       "    .dataframe thead th {\n",
       "        text-align: right;\n",
       "    }\n",
       "</style>\n",
       "<table border=\"1\" class=\"dataframe\">\n",
       "  <thead>\n",
       "    <tr style=\"text-align: right;\">\n",
       "      <th></th>\n",
       "      <th>video_duration_sec</th>\n",
       "      <th>claim_status</th>\n",
       "      <th>author_ban_status</th>\n",
       "      <th>video_view_count</th>\n",
       "      <th>video_like_count</th>\n",
       "      <th>video_share_count</th>\n",
       "      <th>video_download_count</th>\n",
       "      <th>video_comment_count</th>\n",
       "    </tr>\n",
       "  </thead>\n",
       "  <tbody>\n",
       "    <tr>\n",
       "      <th>0</th>\n",
       "      <td>59</td>\n",
       "      <td>claim</td>\n",
       "      <td>under review</td>\n",
       "      <td>343296.0</td>\n",
       "      <td>19425.0</td>\n",
       "      <td>241.0</td>\n",
       "      <td>1.0</td>\n",
       "      <td>0.0</td>\n",
       "    </tr>\n",
       "    <tr>\n",
       "      <th>1</th>\n",
       "      <td>32</td>\n",
       "      <td>claim</td>\n",
       "      <td>active</td>\n",
       "      <td>140877.0</td>\n",
       "      <td>77355.0</td>\n",
       "      <td>19034.0</td>\n",
       "      <td>1161.0</td>\n",
       "      <td>684.0</td>\n",
       "    </tr>\n",
       "    <tr>\n",
       "      <th>2</th>\n",
       "      <td>31</td>\n",
       "      <td>claim</td>\n",
       "      <td>active</td>\n",
       "      <td>902185.0</td>\n",
       "      <td>97690.0</td>\n",
       "      <td>2858.0</td>\n",
       "      <td>833.0</td>\n",
       "      <td>329.0</td>\n",
       "    </tr>\n",
       "    <tr>\n",
       "      <th>3</th>\n",
       "      <td>25</td>\n",
       "      <td>claim</td>\n",
       "      <td>active</td>\n",
       "      <td>437506.0</td>\n",
       "      <td>239954.0</td>\n",
       "      <td>34812.0</td>\n",
       "      <td>1234.0</td>\n",
       "      <td>584.0</td>\n",
       "    </tr>\n",
       "    <tr>\n",
       "      <th>4</th>\n",
       "      <td>19</td>\n",
       "      <td>claim</td>\n",
       "      <td>active</td>\n",
       "      <td>56167.0</td>\n",
       "      <td>34987.0</td>\n",
       "      <td>4110.0</td>\n",
       "      <td>547.0</td>\n",
       "      <td>152.0</td>\n",
       "    </tr>\n",
       "  </tbody>\n",
       "</table>\n",
       "</div>"
      ],
      "text/plain": [
       "   video_duration_sec claim_status author_ban_status  video_view_count  \\\n",
       "0                  59        claim      under review          343296.0   \n",
       "1                  32        claim            active          140877.0   \n",
       "2                  31        claim            active          902185.0   \n",
       "3                  25        claim            active          437506.0   \n",
       "4                  19        claim            active           56167.0   \n",
       "\n",
       "   video_like_count  video_share_count  video_download_count  \\\n",
       "0           19425.0              241.0                   1.0   \n",
       "1           77355.0            19034.0                1161.0   \n",
       "2           97690.0             2858.0                 833.0   \n",
       "3          239954.0            34812.0                1234.0   \n",
       "4           34987.0             4110.0                 547.0   \n",
       "\n",
       "   video_comment_count  \n",
       "0                  0.0  \n",
       "1                684.0  \n",
       "2                329.0  \n",
       "3                584.0  \n",
       "4                152.0  "
      ]
     },
     "execution_count": 62,
     "metadata": {},
     "output_type": "execute_result"
    }
   ],
   "source": [
    "# Select features\n",
    "X = data_upsampled[['video_duration_sec', 'claim_status', 'author_ban_status',\n",
    "                    'video_view_count', 'video_like_count', 'video_share_count', 'video_download_count', 'video_comment_count']]\n",
    "\n",
    "# Display first few rows of features dataframe\n",
    "X.head()"
   ]
  },
  {
   "cell_type": "markdown",
   "metadata": {
    "id": "gPIBz0-HDEqd"
   },
   "source": [
    "### **Task 3b. Train-test split**"
   ]
  },
  {
   "cell_type": "markdown",
   "metadata": {
    "id": "5tNw9_y9jmY1"
   },
   "source": [
    "Split the data into training and testing sets."
   ]
  },
  {
   "cell_type": "code",
   "execution_count": 65,
   "metadata": {
    "id": "jKgrew0V6o_3"
   },
   "outputs": [],
   "source": [
    "# Split the data into training and testing sets\n",
    "X_train, X_test, y_train, y_test = train_test_split(X, y, test_size=0.3, random_state=40563)"
   ]
  },
  {
   "cell_type": "markdown",
   "metadata": {
    "id": "5VlklzoujrAR"
   },
   "source": [
    "Confirm that the dimensions of the training and testing sets are in alignment."
   ]
  },
  {
   "cell_type": "code",
   "execution_count": 67,
   "metadata": {
    "id": "xgbB1NCtfxcc"
   },
   "outputs": [
    {
     "name": "stdout",
     "output_type": "stream",
     "text": [
      "(22680, 8)\n",
      "(9720, 8)\n",
      "(22680,)\n",
      "(9720,)\n"
     ]
    }
   ],
   "source": [
    "# Get shape of each training and testing set\n",
    "print(X_train.shape)\n",
    "print(X_test.shape)\n",
    "print(y_train.shape)\n",
    "print(y_test.shape)"
   ]
  },
  {
   "cell_type": "markdown",
   "metadata": {
    "id": "V7PjlXFuDRp_"
   },
   "source": [
    "### **Task 3c. Encode variables**"
   ]
  },
  {
   "cell_type": "markdown",
   "metadata": {
    "id": "rbpnEjop82zL"
   },
   "source": [
    "Check the data types of the features."
   ]
  },
  {
   "cell_type": "code",
   "execution_count": 70,
   "metadata": {
    "id": "TefBRXUu8zWR"
   },
   "outputs": [
    {
     "data": {
      "text/plain": [
       "video_duration_sec        int64\n",
       "claim_status             object\n",
       "author_ban_status        object\n",
       "video_view_count        float64\n",
       "video_like_count        float64\n",
       "video_share_count       float64\n",
       "video_download_count    float64\n",
       "video_comment_count     float64\n",
       "dtype: object"
      ]
     },
     "execution_count": 70,
     "metadata": {},
     "output_type": "execute_result"
    }
   ],
   "source": [
    "# Check data types\n",
    "X.dtypes"
   ]
  },
  {
   "cell_type": "code",
   "execution_count": 71,
   "metadata": {
    "id": "gT1YqFZc-uBF"
   },
   "outputs": [
    {
     "data": {
      "text/plain": [
       "claim_status\n",
       "opinion    22452\n",
       "claim       9948\n",
       "Name: count, dtype: int64"
      ]
     },
     "execution_count": 71,
     "metadata": {},
     "output_type": "execute_result"
    }
   ],
   "source": [
    "# Get unique values in `claim_status`\n",
    "X['claim_status'].value_counts()"
   ]
  },
  {
   "cell_type": "code",
   "execution_count": 72,
   "metadata": {
    "id": "uSnObsvy-wpz"
   },
   "outputs": [
    {
     "data": {
      "text/plain": [
       "author_ban_status\n",
       "active          27834\n",
       "under review     2738\n",
       "banned           1828\n",
       "Name: count, dtype: int64"
      ]
     },
     "execution_count": 72,
     "metadata": {},
     "output_type": "execute_result"
    }
   ],
   "source": [
    "# Get unique values in `author_ban_status`\n",
    "X['author_ban_status'].value_counts()"
   ]
  },
  {
   "cell_type": "markdown",
   "metadata": {
    "id": "PKSSWs39xYWH"
   },
   "source": [
    "As shown above, the `claim_status` and `author_ban_status` features are each of data type `object` currently. In order to work with the implementations of models through `sklearn`, these categorical features will need to be made numeric. One way to do this is through one-hot encoding.\n",
    "\n",
    "Encode categorical features in the training set using an appropriate method."
   ]
  },
  {
   "cell_type": "code",
   "execution_count": 74,
   "metadata": {
    "id": "mlMTSyaTcBct"
   },
   "outputs": [
    {
     "data": {
      "text/html": [
       "<div>\n",
       "<style scoped>\n",
       "    .dataframe tbody tr th:only-of-type {\n",
       "        vertical-align: middle;\n",
       "    }\n",
       "\n",
       "    .dataframe tbody tr th {\n",
       "        vertical-align: top;\n",
       "    }\n",
       "\n",
       "    .dataframe thead th {\n",
       "        text-align: right;\n",
       "    }\n",
       "</style>\n",
       "<table border=\"1\" class=\"dataframe\">\n",
       "  <thead>\n",
       "    <tr style=\"text-align: right;\">\n",
       "      <th></th>\n",
       "      <th>claim_status</th>\n",
       "      <th>author_ban_status</th>\n",
       "    </tr>\n",
       "  </thead>\n",
       "  <tbody>\n",
       "    <tr>\n",
       "      <th>263</th>\n",
       "      <td>claim</td>\n",
       "      <td>active</td>\n",
       "    </tr>\n",
       "    <tr>\n",
       "      <th>17632</th>\n",
       "      <td>opinion</td>\n",
       "      <td>active</td>\n",
       "    </tr>\n",
       "    <tr>\n",
       "      <th>12613</th>\n",
       "      <td>opinion</td>\n",
       "      <td>active</td>\n",
       "    </tr>\n",
       "    <tr>\n",
       "      <th>1379</th>\n",
       "      <td>claim</td>\n",
       "      <td>active</td>\n",
       "    </tr>\n",
       "    <tr>\n",
       "      <th>2219</th>\n",
       "      <td>claim</td>\n",
       "      <td>active</td>\n",
       "    </tr>\n",
       "  </tbody>\n",
       "</table>\n",
       "</div>"
      ],
      "text/plain": [
       "      claim_status author_ban_status\n",
       "263          claim            active\n",
       "17632      opinion            active\n",
       "12613      opinion            active\n",
       "1379         claim            active\n",
       "2219         claim            active"
      ]
     },
     "execution_count": 74,
     "metadata": {},
     "output_type": "execute_result"
    }
   ],
   "source": [
    "# Select the training features that needs to be encoded\n",
    "X_train_to_encode = X_train[['claim_status', 'author_ban_status']]\n",
    "\n",
    "# Display first few rows\n",
    "X_train_to_encode.head()"
   ]
  },
  {
   "cell_type": "code",
   "execution_count": 75,
   "metadata": {
    "id": "lSM5lQioAjex"
   },
   "outputs": [],
   "source": [
    "# Set up an encoder for one-hot encoding the categorical features\n",
    "X_encoder = OneHotEncoder(drop='first', sparse_output=False)"
   ]
  },
  {
   "cell_type": "code",
   "execution_count": 76,
   "metadata": {
    "id": "PH_KGRJApBM_"
   },
   "outputs": [],
   "source": [
    "# Fit and transform the training features using the encoder\n",
    "X_train_encoded = X_encoder.fit_transform(X_train_to_encode)"
   ]
  },
  {
   "cell_type": "code",
   "execution_count": 77,
   "metadata": {
    "id": "j57gJjIFpyO_"
   },
   "outputs": [
    {
     "data": {
      "text/plain": [
       "array(['claim_status_opinion', 'author_ban_status_banned',\n",
       "       'author_ban_status_under review'], dtype=object)"
      ]
     },
     "execution_count": 77,
     "metadata": {},
     "output_type": "execute_result"
    }
   ],
   "source": [
    "# Get feature names from encoder\n",
    "X_encoder.get_feature_names_out()"
   ]
  },
  {
   "cell_type": "code",
   "execution_count": 78,
   "metadata": {
    "id": "2vSYk7n7phDI"
   },
   "outputs": [
    {
     "data": {
      "text/plain": [
       "array([[0., 0., 0.],\n",
       "       [1., 0., 0.],\n",
       "       [1., 0., 0.],\n",
       "       ...,\n",
       "       [1., 0., 0.],\n",
       "       [1., 0., 0.],\n",
       "       [0., 0., 0.]])"
      ]
     },
     "execution_count": 78,
     "metadata": {},
     "output_type": "execute_result"
    }
   ],
   "source": [
    "# Display first few rows of encoded training features\n",
    "X_train_encoded"
   ]
  },
  {
   "cell_type": "code",
   "execution_count": 79,
   "metadata": {
    "id": "jAn10kA9qcUa"
   },
   "outputs": [
    {
     "data": {
      "text/html": [
       "<div>\n",
       "<style scoped>\n",
       "    .dataframe tbody tr th:only-of-type {\n",
       "        vertical-align: middle;\n",
       "    }\n",
       "\n",
       "    .dataframe tbody tr th {\n",
       "        vertical-align: top;\n",
       "    }\n",
       "\n",
       "    .dataframe thead th {\n",
       "        text-align: right;\n",
       "    }\n",
       "</style>\n",
       "<table border=\"1\" class=\"dataframe\">\n",
       "  <thead>\n",
       "    <tr style=\"text-align: right;\">\n",
       "      <th></th>\n",
       "      <th>claim_status_opinion</th>\n",
       "      <th>author_ban_status_banned</th>\n",
       "      <th>author_ban_status_under review</th>\n",
       "    </tr>\n",
       "  </thead>\n",
       "  <tbody>\n",
       "    <tr>\n",
       "      <th>0</th>\n",
       "      <td>0.0</td>\n",
       "      <td>0.0</td>\n",
       "      <td>0.0</td>\n",
       "    </tr>\n",
       "    <tr>\n",
       "      <th>1</th>\n",
       "      <td>1.0</td>\n",
       "      <td>0.0</td>\n",
       "      <td>0.0</td>\n",
       "    </tr>\n",
       "    <tr>\n",
       "      <th>2</th>\n",
       "      <td>1.0</td>\n",
       "      <td>0.0</td>\n",
       "      <td>0.0</td>\n",
       "    </tr>\n",
       "    <tr>\n",
       "      <th>3</th>\n",
       "      <td>0.0</td>\n",
       "      <td>0.0</td>\n",
       "      <td>0.0</td>\n",
       "    </tr>\n",
       "    <tr>\n",
       "      <th>4</th>\n",
       "      <td>0.0</td>\n",
       "      <td>0.0</td>\n",
       "      <td>0.0</td>\n",
       "    </tr>\n",
       "  </tbody>\n",
       "</table>\n",
       "</div>"
      ],
      "text/plain": [
       "   claim_status_opinion  author_ban_status_banned  \\\n",
       "0                   0.0                       0.0   \n",
       "1                   1.0                       0.0   \n",
       "2                   1.0                       0.0   \n",
       "3                   0.0                       0.0   \n",
       "4                   0.0                       0.0   \n",
       "\n",
       "   author_ban_status_under review  \n",
       "0                             0.0  \n",
       "1                             0.0  \n",
       "2                             0.0  \n",
       "3                             0.0  \n",
       "4                             0.0  "
      ]
     },
     "execution_count": 79,
     "metadata": {},
     "output_type": "execute_result"
    }
   ],
   "source": [
    "# Place encoded training features (which is currently an array) into a dataframe\n",
    "X_train_encoded_df = pd.DataFrame(data=X_train_encoded, columns=X_encoder.get_feature_names_out())\n",
    "\n",
    "# Display first few rows\n",
    "X_train_encoded_df.head()"
   ]
  },
  {
   "cell_type": "code",
   "execution_count": 80,
   "metadata": {
    "id": "7pdBRVwnuwc0"
   },
   "outputs": [
    {
     "data": {
      "text/html": [
       "<div>\n",
       "<style scoped>\n",
       "    .dataframe tbody tr th:only-of-type {\n",
       "        vertical-align: middle;\n",
       "    }\n",
       "\n",
       "    .dataframe tbody tr th {\n",
       "        vertical-align: top;\n",
       "    }\n",
       "\n",
       "    .dataframe thead th {\n",
       "        text-align: right;\n",
       "    }\n",
       "</style>\n",
       "<table border=\"1\" class=\"dataframe\">\n",
       "  <thead>\n",
       "    <tr style=\"text-align: right;\">\n",
       "      <th></th>\n",
       "      <th>video_duration_sec</th>\n",
       "      <th>video_view_count</th>\n",
       "      <th>video_like_count</th>\n",
       "      <th>video_share_count</th>\n",
       "      <th>video_download_count</th>\n",
       "      <th>video_comment_count</th>\n",
       "    </tr>\n",
       "  </thead>\n",
       "  <tbody>\n",
       "    <tr>\n",
       "      <th>263</th>\n",
       "      <td>40</td>\n",
       "      <td>858605.0</td>\n",
       "      <td>155161.0</td>\n",
       "      <td>37439.0</td>\n",
       "      <td>2828.0</td>\n",
       "      <td>668.0</td>\n",
       "    </tr>\n",
       "    <tr>\n",
       "      <th>17632</th>\n",
       "      <td>51</td>\n",
       "      <td>5002.0</td>\n",
       "      <td>1783.0</td>\n",
       "      <td>480.0</td>\n",
       "      <td>12.0</td>\n",
       "      <td>1.0</td>\n",
       "    </tr>\n",
       "    <tr>\n",
       "      <th>12613</th>\n",
       "      <td>59</td>\n",
       "      <td>9411.0</td>\n",
       "      <td>1939.0</td>\n",
       "      <td>374.0</td>\n",
       "      <td>39.0</td>\n",
       "      <td>9.0</td>\n",
       "    </tr>\n",
       "    <tr>\n",
       "      <th>1379</th>\n",
       "      <td>18</td>\n",
       "      <td>431924.0</td>\n",
       "      <td>131636.0</td>\n",
       "      <td>26415.0</td>\n",
       "      <td>889.0</td>\n",
       "      <td>339.0</td>\n",
       "    </tr>\n",
       "    <tr>\n",
       "      <th>2219</th>\n",
       "      <td>25</td>\n",
       "      <td>561269.0</td>\n",
       "      <td>38700.0</td>\n",
       "      <td>5699.0</td>\n",
       "      <td>910.0</td>\n",
       "      <td>63.0</td>\n",
       "    </tr>\n",
       "  </tbody>\n",
       "</table>\n",
       "</div>"
      ],
      "text/plain": [
       "       video_duration_sec  video_view_count  video_like_count  \\\n",
       "263                    40          858605.0          155161.0   \n",
       "17632                  51            5002.0            1783.0   \n",
       "12613                  59            9411.0            1939.0   \n",
       "1379                   18          431924.0          131636.0   \n",
       "2219                   25          561269.0           38700.0   \n",
       "\n",
       "       video_share_count  video_download_count  video_comment_count  \n",
       "263              37439.0                2828.0                668.0  \n",
       "17632              480.0                  12.0                  1.0  \n",
       "12613              374.0                  39.0                  9.0  \n",
       "1379             26415.0                 889.0                339.0  \n",
       "2219              5699.0                 910.0                 63.0  "
      ]
     },
     "execution_count": 80,
     "metadata": {},
     "output_type": "execute_result"
    }
   ],
   "source": [
    "# Display first few rows of `X_train` with `claim_status` and `author_ban_status` columns dropped (since these features are being transformed to numeric)\n",
    "X_train.drop(columns=['claim_status', 'author_ban_status']).head()"
   ]
  },
  {
   "cell_type": "code",
   "execution_count": 81,
   "metadata": {
    "id": "qKG1TK-KEfuB"
   },
   "outputs": [
    {
     "data": {
      "text/html": [
       "<div>\n",
       "<style scoped>\n",
       "    .dataframe tbody tr th:only-of-type {\n",
       "        vertical-align: middle;\n",
       "    }\n",
       "\n",
       "    .dataframe tbody tr th {\n",
       "        vertical-align: top;\n",
       "    }\n",
       "\n",
       "    .dataframe thead th {\n",
       "        text-align: right;\n",
       "    }\n",
       "</style>\n",
       "<table border=\"1\" class=\"dataframe\">\n",
       "  <thead>\n",
       "    <tr style=\"text-align: right;\">\n",
       "      <th></th>\n",
       "      <th>video_duration_sec</th>\n",
       "      <th>video_view_count</th>\n",
       "      <th>video_like_count</th>\n",
       "      <th>video_share_count</th>\n",
       "      <th>video_download_count</th>\n",
       "      <th>video_comment_count</th>\n",
       "      <th>claim_status_opinion</th>\n",
       "      <th>author_ban_status_banned</th>\n",
       "      <th>author_ban_status_under review</th>\n",
       "    </tr>\n",
       "  </thead>\n",
       "  <tbody>\n",
       "    <tr>\n",
       "      <th>0</th>\n",
       "      <td>40</td>\n",
       "      <td>858605.0</td>\n",
       "      <td>155161.0</td>\n",
       "      <td>37439.0</td>\n",
       "      <td>2828.0</td>\n",
       "      <td>668.0</td>\n",
       "      <td>0.0</td>\n",
       "      <td>0.0</td>\n",
       "      <td>0.0</td>\n",
       "    </tr>\n",
       "    <tr>\n",
       "      <th>1</th>\n",
       "      <td>51</td>\n",
       "      <td>5002.0</td>\n",
       "      <td>1783.0</td>\n",
       "      <td>480.0</td>\n",
       "      <td>12.0</td>\n",
       "      <td>1.0</td>\n",
       "      <td>1.0</td>\n",
       "      <td>0.0</td>\n",
       "      <td>0.0</td>\n",
       "    </tr>\n",
       "    <tr>\n",
       "      <th>2</th>\n",
       "      <td>59</td>\n",
       "      <td>9411.0</td>\n",
       "      <td>1939.0</td>\n",
       "      <td>374.0</td>\n",
       "      <td>39.0</td>\n",
       "      <td>9.0</td>\n",
       "      <td>1.0</td>\n",
       "      <td>0.0</td>\n",
       "      <td>0.0</td>\n",
       "    </tr>\n",
       "    <tr>\n",
       "      <th>3</th>\n",
       "      <td>18</td>\n",
       "      <td>431924.0</td>\n",
       "      <td>131636.0</td>\n",
       "      <td>26415.0</td>\n",
       "      <td>889.0</td>\n",
       "      <td>339.0</td>\n",
       "      <td>0.0</td>\n",
       "      <td>0.0</td>\n",
       "      <td>0.0</td>\n",
       "    </tr>\n",
       "    <tr>\n",
       "      <th>4</th>\n",
       "      <td>25</td>\n",
       "      <td>561269.0</td>\n",
       "      <td>38700.0</td>\n",
       "      <td>5699.0</td>\n",
       "      <td>910.0</td>\n",
       "      <td>63.0</td>\n",
       "      <td>0.0</td>\n",
       "      <td>0.0</td>\n",
       "      <td>0.0</td>\n",
       "    </tr>\n",
       "  </tbody>\n",
       "</table>\n",
       "</div>"
      ],
      "text/plain": [
       "   video_duration_sec  video_view_count  video_like_count  video_share_count  \\\n",
       "0                  40          858605.0          155161.0            37439.0   \n",
       "1                  51            5002.0            1783.0              480.0   \n",
       "2                  59            9411.0            1939.0              374.0   \n",
       "3                  18          431924.0          131636.0            26415.0   \n",
       "4                  25          561269.0           38700.0             5699.0   \n",
       "\n",
       "   video_download_count  video_comment_count  claim_status_opinion  \\\n",
       "0                2828.0                668.0                   0.0   \n",
       "1                  12.0                  1.0                   1.0   \n",
       "2                  39.0                  9.0                   1.0   \n",
       "3                 889.0                339.0                   0.0   \n",
       "4                 910.0                 63.0                   0.0   \n",
       "\n",
       "   author_ban_status_banned  author_ban_status_under review  \n",
       "0                       0.0                             0.0  \n",
       "1                       0.0                             0.0  \n",
       "2                       0.0                             0.0  \n",
       "3                       0.0                             0.0  \n",
       "4                       0.0                             0.0  "
      ]
     },
     "execution_count": 81,
     "metadata": {},
     "output_type": "execute_result"
    }
   ],
   "source": [
    "# Concatenate `X_train` and `X_train_encoded_df` to form the final dataframe for training data (`X_train_final`)\n",
    "# Note: Using `.reset_index(drop=True)` to reset the index in X_train after dropping `claim_status` and `author_ban_status`,\n",
    "# so that the indices align with those in `X_train_encoded_df` and `count_df`\n",
    "X_train_final = pd.concat([X_train.drop(columns=['claim_status', 'author_ban_status']).reset_index(drop=True), X_train_encoded_df], axis=1)\n",
    "\n",
    "# Display first few rows\n",
    "X_train_final.head()"
   ]
  },
  {
   "cell_type": "markdown",
   "metadata": {
    "id": "9ZHZcDR_fY-D"
   },
   "source": [
    "Check the data type of the outcome variable."
   ]
  },
  {
   "cell_type": "code",
   "execution_count": 83,
   "metadata": {
    "id": "QNu4ndvufeP2"
   },
   "outputs": [
    {
     "data": {
      "text/plain": [
       "dtype('O')"
      ]
     },
     "execution_count": 83,
     "metadata": {},
     "output_type": "execute_result"
    }
   ],
   "source": [
    "# Check data type of outcome variable\n",
    "y.dtypes"
   ]
  },
  {
   "cell_type": "code",
   "execution_count": 84,
   "metadata": {
    "id": "23VVtIeD9fet"
   },
   "outputs": [
    {
     "data": {
      "text/plain": [
       "verified_status\n",
       "not verified    16200\n",
       "verified        16200\n",
       "Name: count, dtype: int64"
      ]
     },
     "execution_count": 84,
     "metadata": {},
     "output_type": "execute_result"
    }
   ],
   "source": [
    "# Get unique values of outcome variable\n",
    "y.value_counts()"
   ]
  },
  {
   "cell_type": "markdown",
   "metadata": {
    "id": "YBUb24WDyAiA"
   },
   "source": [
    "A shown above, the outcome variable is of data type `object` currently. One-hot encoding can be used to make this variable numeric.\n",
    "\n",
    "Encode categorical values of the outcome variable the training set using an appropriate method."
   ]
  },
  {
   "cell_type": "code",
   "execution_count": 86,
   "metadata": {
    "id": "xGeLvAbgIBGh"
   },
   "outputs": [],
   "source": [
    "# Set up an encoder for one-hot encoding the categorical outcome variable\n",
    "y_encoder = OneHotEncoder(drop='first', sparse_output=False)"
   ]
  },
  {
   "cell_type": "code",
   "execution_count": 87,
   "metadata": {
    "id": "qJKcy7sqGeSC"
   },
   "outputs": [
    {
     "data": {
      "text/plain": [
       "array([0., 1., 0., ..., 0., 1., 0.])"
      ]
     },
     "execution_count": 87,
     "metadata": {},
     "output_type": "execute_result"
    }
   ],
   "source": [
    "# Encode the training outcome variable\n",
    "# Notes:\n",
    "#   - Adjusting the shape of `y_train` before passing into `.fit_transform()`, since it takes in 2D array\n",
    "#   - Using `.ravel()` to flatten the array returned by `.fit_transform()`, so that it can be used later to train the model\n",
    "y_train_encoded = y_encoder.fit_transform(y_train.values.reshape(-1, 1)).ravel()\n",
    "\n",
    "# Display the encoded training outcome variable\n",
    "y_train_encoded"
   ]
  },
  {
   "cell_type": "markdown",
   "metadata": {
    "id": "iDYyjWssbnBG"
   },
   "source": [
    "### **Task 3d. Model building**"
   ]
  },
  {
   "cell_type": "markdown",
   "metadata": {
    "id": "ty8ieBkDBH4g"
   },
   "source": [
    "Construct a model and fit it to the training set."
   ]
  },
  {
   "cell_type": "code",
   "execution_count": 90,
   "metadata": {
    "id": "sNcke2SNvZrN"
   },
   "outputs": [
    {
     "name": "stderr",
     "output_type": "stream",
     "text": [
      "C:\\Users\\Lem\\anaconda3\\Lib\\site-packages\\sklearn\\linear_model\\_logistic.py:469: ConvergenceWarning: lbfgs failed to converge (status=1):\n",
      "STOP: TOTAL NO. of ITERATIONS REACHED LIMIT.\n",
      "\n",
      "Increase the number of iterations (max_iter) or scale the data as shown in:\n",
      "    https://scikit-learn.org/stable/modules/preprocessing.html\n",
      "Please also refer to the documentation for alternative solver options:\n",
      "    https://scikit-learn.org/stable/modules/linear_model.html#logistic-regression\n",
      "  n_iter_i = _check_optimize_result(\n"
     ]
    }
   ],
   "source": [
    "# Construct a logistic regression model and fit it to the training set\n",
    "clf = LogisticRegression(random_state=40563, max_iter=800).fit(X_train_final, y_train_encoded)"
   ]
  },
  {
   "cell_type": "markdown",
   "metadata": {
    "id": "cp7ojoBldEYy"
   },
   "source": [
    "<img src=\"images/Execute.png\" width=\"100\" height=\"100\" align=left>\n",
    "\n",
    "## **PACE: Execute**\n",
    "\n",
    "Consider the questions in your PACE Strategy Document to reflect on the Execute stage."
   ]
  },
  {
   "cell_type": "markdown",
   "metadata": {
    "id": "F_l3bkxQdJ3a"
   },
   "source": [
    "### **Taks 4a. Results and evaluation**\n",
    "\n",
    "Evaluate your model."
   ]
  },
  {
   "cell_type": "markdown",
   "metadata": {
    "id": "bxnKPq6dIUOB"
   },
   "source": [
    "Encode categorical features in the testing set using an appropriate method."
   ]
  },
  {
   "cell_type": "code",
   "execution_count": 94,
   "metadata": {
    "id": "x-bNI_2_Lp_2"
   },
   "outputs": [
    {
     "data": {
      "text/html": [
       "<div>\n",
       "<style scoped>\n",
       "    .dataframe tbody tr th:only-of-type {\n",
       "        vertical-align: middle;\n",
       "    }\n",
       "\n",
       "    .dataframe tbody tr th {\n",
       "        vertical-align: top;\n",
       "    }\n",
       "\n",
       "    .dataframe thead th {\n",
       "        text-align: right;\n",
       "    }\n",
       "</style>\n",
       "<table border=\"1\" class=\"dataframe\">\n",
       "  <thead>\n",
       "    <tr style=\"text-align: right;\">\n",
       "      <th></th>\n",
       "      <th>claim_status</th>\n",
       "      <th>author_ban_status</th>\n",
       "    </tr>\n",
       "  </thead>\n",
       "  <tbody>\n",
       "    <tr>\n",
       "      <th>31802</th>\n",
       "      <td>opinion</td>\n",
       "      <td>active</td>\n",
       "    </tr>\n",
       "    <tr>\n",
       "      <th>26842</th>\n",
       "      <td>opinion</td>\n",
       "      <td>active</td>\n",
       "    </tr>\n",
       "    <tr>\n",
       "      <th>6549</th>\n",
       "      <td>claim</td>\n",
       "      <td>active</td>\n",
       "    </tr>\n",
       "    <tr>\n",
       "      <th>21231</th>\n",
       "      <td>opinion</td>\n",
       "      <td>active</td>\n",
       "    </tr>\n",
       "    <tr>\n",
       "      <th>28088</th>\n",
       "      <td>opinion</td>\n",
       "      <td>active</td>\n",
       "    </tr>\n",
       "  </tbody>\n",
       "</table>\n",
       "</div>"
      ],
      "text/plain": [
       "      claim_status author_ban_status\n",
       "31802      opinion            active\n",
       "26842      opinion            active\n",
       "6549         claim            active\n",
       "21231      opinion            active\n",
       "28088      opinion            active"
      ]
     },
     "execution_count": 94,
     "metadata": {},
     "output_type": "execute_result"
    }
   ],
   "source": [
    "# Select the testing features that needs to be encoded\n",
    "X_test_to_encode = X_test[['claim_status', 'author_ban_status']]\n",
    "\n",
    "# Display first few rows\n",
    "X_test_to_encode.head()"
   ]
  },
  {
   "cell_type": "code",
   "execution_count": 95,
   "metadata": {
    "id": "OWa-7XD-Lp_3"
   },
   "outputs": [
    {
     "data": {
      "text/plain": [
       "array([[1., 0., 0.],\n",
       "       [1., 0., 0.],\n",
       "       [0., 0., 0.],\n",
       "       ...,\n",
       "       [0., 0., 0.],\n",
       "       [0., 0., 0.],\n",
       "       [1., 0., 0.]])"
      ]
     },
     "execution_count": 95,
     "metadata": {},
     "output_type": "execute_result"
    }
   ],
   "source": [
    "# Transform the testing features using the encoder\n",
    "X_test_encoded = X_encoder.fit_transform(X_test_to_encode)\n",
    "\n",
    "# Display first few rows of encoded testing features\n",
    "X_test_encoded"
   ]
  },
  {
   "cell_type": "code",
   "execution_count": 96,
   "metadata": {
    "id": "Nmuk2nAELp_3"
   },
   "outputs": [
    {
     "data": {
      "text/html": [
       "<div>\n",
       "<style scoped>\n",
       "    .dataframe tbody tr th:only-of-type {\n",
       "        vertical-align: middle;\n",
       "    }\n",
       "\n",
       "    .dataframe tbody tr th {\n",
       "        vertical-align: top;\n",
       "    }\n",
       "\n",
       "    .dataframe thead th {\n",
       "        text-align: right;\n",
       "    }\n",
       "</style>\n",
       "<table border=\"1\" class=\"dataframe\">\n",
       "  <thead>\n",
       "    <tr style=\"text-align: right;\">\n",
       "      <th></th>\n",
       "      <th>claim_status_opinion</th>\n",
       "      <th>author_ban_status_banned</th>\n",
       "      <th>author_ban_status_under review</th>\n",
       "    </tr>\n",
       "  </thead>\n",
       "  <tbody>\n",
       "    <tr>\n",
       "      <th>0</th>\n",
       "      <td>1.0</td>\n",
       "      <td>0.0</td>\n",
       "      <td>0.0</td>\n",
       "    </tr>\n",
       "    <tr>\n",
       "      <th>1</th>\n",
       "      <td>1.0</td>\n",
       "      <td>0.0</td>\n",
       "      <td>0.0</td>\n",
       "    </tr>\n",
       "    <tr>\n",
       "      <th>2</th>\n",
       "      <td>0.0</td>\n",
       "      <td>0.0</td>\n",
       "      <td>0.0</td>\n",
       "    </tr>\n",
       "    <tr>\n",
       "      <th>3</th>\n",
       "      <td>1.0</td>\n",
       "      <td>0.0</td>\n",
       "      <td>0.0</td>\n",
       "    </tr>\n",
       "    <tr>\n",
       "      <th>4</th>\n",
       "      <td>1.0</td>\n",
       "      <td>0.0</td>\n",
       "      <td>0.0</td>\n",
       "    </tr>\n",
       "  </tbody>\n",
       "</table>\n",
       "</div>"
      ],
      "text/plain": [
       "   claim_status_opinion  author_ban_status_banned  \\\n",
       "0                   1.0                       0.0   \n",
       "1                   1.0                       0.0   \n",
       "2                   0.0                       0.0   \n",
       "3                   1.0                       0.0   \n",
       "4                   1.0                       0.0   \n",
       "\n",
       "   author_ban_status_under review  \n",
       "0                             0.0  \n",
       "1                             0.0  \n",
       "2                             0.0  \n",
       "3                             0.0  \n",
       "4                             0.0  "
      ]
     },
     "execution_count": 96,
     "metadata": {},
     "output_type": "execute_result"
    }
   ],
   "source": [
    "# Place encoded testing features (which is currently an array) into a dataframe\n",
    "X_test_encoded_df = pd.DataFrame(data=X_test_encoded, columns=X_encoder.get_feature_names_out())\n",
    "\n",
    "# Display first few rows\n",
    "X_test_encoded_df.head()"
   ]
  },
  {
   "cell_type": "code",
   "execution_count": 97,
   "metadata": {
    "id": "uPkMT-n17pV5"
   },
   "outputs": [
    {
     "data": {
      "text/html": [
       "<div>\n",
       "<style scoped>\n",
       "    .dataframe tbody tr th:only-of-type {\n",
       "        vertical-align: middle;\n",
       "    }\n",
       "\n",
       "    .dataframe tbody tr th {\n",
       "        vertical-align: top;\n",
       "    }\n",
       "\n",
       "    .dataframe thead th {\n",
       "        text-align: right;\n",
       "    }\n",
       "</style>\n",
       "<table border=\"1\" class=\"dataframe\">\n",
       "  <thead>\n",
       "    <tr style=\"text-align: right;\">\n",
       "      <th></th>\n",
       "      <th>video_duration_sec</th>\n",
       "      <th>video_view_count</th>\n",
       "      <th>video_like_count</th>\n",
       "      <th>video_share_count</th>\n",
       "      <th>video_download_count</th>\n",
       "      <th>video_comment_count</th>\n",
       "    </tr>\n",
       "  </thead>\n",
       "  <tbody>\n",
       "    <tr>\n",
       "      <th>31802</th>\n",
       "      <td>33</td>\n",
       "      <td>1770.0</td>\n",
       "      <td>85.0</td>\n",
       "      <td>23.0</td>\n",
       "      <td>0.0</td>\n",
       "      <td>0.0</td>\n",
       "    </tr>\n",
       "    <tr>\n",
       "      <th>26842</th>\n",
       "      <td>9</td>\n",
       "      <td>3246.0</td>\n",
       "      <td>250.0</td>\n",
       "      <td>44.0</td>\n",
       "      <td>4.0</td>\n",
       "      <td>0.0</td>\n",
       "    </tr>\n",
       "    <tr>\n",
       "      <th>6549</th>\n",
       "      <td>58</td>\n",
       "      <td>566519.0</td>\n",
       "      <td>229844.0</td>\n",
       "      <td>77707.0</td>\n",
       "      <td>3922.0</td>\n",
       "      <td>687.0</td>\n",
       "    </tr>\n",
       "    <tr>\n",
       "      <th>21231</th>\n",
       "      <td>42</td>\n",
       "      <td>6278.0</td>\n",
       "      <td>1550.0</td>\n",
       "      <td>94.0</td>\n",
       "      <td>21.0</td>\n",
       "      <td>1.0</td>\n",
       "    </tr>\n",
       "    <tr>\n",
       "      <th>28088</th>\n",
       "      <td>58</td>\n",
       "      <td>7997.0</td>\n",
       "      <td>1017.0</td>\n",
       "      <td>178.0</td>\n",
       "      <td>13.0</td>\n",
       "      <td>2.0</td>\n",
       "    </tr>\n",
       "  </tbody>\n",
       "</table>\n",
       "</div>"
      ],
      "text/plain": [
       "       video_duration_sec  video_view_count  video_like_count  \\\n",
       "31802                  33            1770.0              85.0   \n",
       "26842                   9            3246.0             250.0   \n",
       "6549                   58          566519.0          229844.0   \n",
       "21231                  42            6278.0            1550.0   \n",
       "28088                  58            7997.0            1017.0   \n",
       "\n",
       "       video_share_count  video_download_count  video_comment_count  \n",
       "31802               23.0                   0.0                  0.0  \n",
       "26842               44.0                   4.0                  0.0  \n",
       "6549             77707.0                3922.0                687.0  \n",
       "21231               94.0                  21.0                  1.0  \n",
       "28088              178.0                  13.0                  2.0  "
      ]
     },
     "execution_count": 97,
     "metadata": {},
     "output_type": "execute_result"
    }
   ],
   "source": [
    "# Display first few rows of `X_test` with `claim_status` and `author_ban_status` columns dropped (since these features are being transformed to numeric)\n",
    "X_test.drop(columns=['claim_status', 'author_ban_status']).head()"
   ]
  },
  {
   "cell_type": "code",
   "execution_count": 98,
   "metadata": {
    "id": "uLRVCl2yLp_4"
   },
   "outputs": [
    {
     "data": {
      "text/html": [
       "<div>\n",
       "<style scoped>\n",
       "    .dataframe tbody tr th:only-of-type {\n",
       "        vertical-align: middle;\n",
       "    }\n",
       "\n",
       "    .dataframe tbody tr th {\n",
       "        vertical-align: top;\n",
       "    }\n",
       "\n",
       "    .dataframe thead th {\n",
       "        text-align: right;\n",
       "    }\n",
       "</style>\n",
       "<table border=\"1\" class=\"dataframe\">\n",
       "  <thead>\n",
       "    <tr style=\"text-align: right;\">\n",
       "      <th></th>\n",
       "      <th>video_duration_sec</th>\n",
       "      <th>video_view_count</th>\n",
       "      <th>video_like_count</th>\n",
       "      <th>video_share_count</th>\n",
       "      <th>video_download_count</th>\n",
       "      <th>video_comment_count</th>\n",
       "      <th>claim_status_opinion</th>\n",
       "      <th>author_ban_status_banned</th>\n",
       "      <th>author_ban_status_under review</th>\n",
       "    </tr>\n",
       "  </thead>\n",
       "  <tbody>\n",
       "    <tr>\n",
       "      <th>0</th>\n",
       "      <td>33</td>\n",
       "      <td>1770.0</td>\n",
       "      <td>85.0</td>\n",
       "      <td>23.0</td>\n",
       "      <td>0.0</td>\n",
       "      <td>0.0</td>\n",
       "      <td>1.0</td>\n",
       "      <td>0.0</td>\n",
       "      <td>0.0</td>\n",
       "    </tr>\n",
       "    <tr>\n",
       "      <th>1</th>\n",
       "      <td>9</td>\n",
       "      <td>3246.0</td>\n",
       "      <td>250.0</td>\n",
       "      <td>44.0</td>\n",
       "      <td>4.0</td>\n",
       "      <td>0.0</td>\n",
       "      <td>1.0</td>\n",
       "      <td>0.0</td>\n",
       "      <td>0.0</td>\n",
       "    </tr>\n",
       "    <tr>\n",
       "      <th>2</th>\n",
       "      <td>58</td>\n",
       "      <td>566519.0</td>\n",
       "      <td>229844.0</td>\n",
       "      <td>77707.0</td>\n",
       "      <td>3922.0</td>\n",
       "      <td>687.0</td>\n",
       "      <td>0.0</td>\n",
       "      <td>0.0</td>\n",
       "      <td>0.0</td>\n",
       "    </tr>\n",
       "    <tr>\n",
       "      <th>3</th>\n",
       "      <td>42</td>\n",
       "      <td>6278.0</td>\n",
       "      <td>1550.0</td>\n",
       "      <td>94.0</td>\n",
       "      <td>21.0</td>\n",
       "      <td>1.0</td>\n",
       "      <td>1.0</td>\n",
       "      <td>0.0</td>\n",
       "      <td>0.0</td>\n",
       "    </tr>\n",
       "    <tr>\n",
       "      <th>4</th>\n",
       "      <td>58</td>\n",
       "      <td>7997.0</td>\n",
       "      <td>1017.0</td>\n",
       "      <td>178.0</td>\n",
       "      <td>13.0</td>\n",
       "      <td>2.0</td>\n",
       "      <td>1.0</td>\n",
       "      <td>0.0</td>\n",
       "      <td>0.0</td>\n",
       "    </tr>\n",
       "  </tbody>\n",
       "</table>\n",
       "</div>"
      ],
      "text/plain": [
       "   video_duration_sec  video_view_count  video_like_count  video_share_count  \\\n",
       "0                  33            1770.0              85.0               23.0   \n",
       "1                   9            3246.0             250.0               44.0   \n",
       "2                  58          566519.0          229844.0            77707.0   \n",
       "3                  42            6278.0            1550.0               94.0   \n",
       "4                  58            7997.0            1017.0              178.0   \n",
       "\n",
       "   video_download_count  video_comment_count  claim_status_opinion  \\\n",
       "0                   0.0                  0.0                   1.0   \n",
       "1                   4.0                  0.0                   1.0   \n",
       "2                3922.0                687.0                   0.0   \n",
       "3                  21.0                  1.0                   1.0   \n",
       "4                  13.0                  2.0                   1.0   \n",
       "\n",
       "   author_ban_status_banned  author_ban_status_under review  \n",
       "0                       0.0                             0.0  \n",
       "1                       0.0                             0.0  \n",
       "2                       0.0                             0.0  \n",
       "3                       0.0                             0.0  \n",
       "4                       0.0                             0.0  "
      ]
     },
     "execution_count": 98,
     "metadata": {},
     "output_type": "execute_result"
    }
   ],
   "source": [
    "# Concatenate `X_test` and `X_test_encoded_df` to form the final dataframe for training data (`X_test_final`)\n",
    "# Note: Using `.reset_index(drop=True)` to reset the index in X_test after dropping `claim_status`, and `author_ban_status`,\n",
    "# so that the indices align with those in `X_test_encoded_df` and `test_count_df`\n",
    "X_test_final = pd.concat([X_test.drop(columns=['claim_status', 'author_ban_status']).reset_index(drop=True), X_test_encoded_df], axis=1)\n",
    "\n",
    "# Display first few rows\n",
    "X_test_final.head()"
   ]
  },
  {
   "cell_type": "markdown",
   "metadata": {
    "id": "gM9egturW1eX"
   },
   "source": [
    "Test the logistic regression model. Use the model to make predictions on the encoded testing set."
   ]
  },
  {
   "cell_type": "code",
   "execution_count": 100,
   "metadata": {
    "id": "NZQbthy93bWM"
   },
   "outputs": [],
   "source": [
    "# Use the logistic regression model to get predictions on the encoded testing set\n",
    "y_pred = clf.predict(X_test_final)"
   ]
  },
  {
   "cell_type": "markdown",
   "metadata": {
    "id": "HNjDzuqmYU0G"
   },
   "source": [
    "Display the predictions on the encoded testing set."
   ]
  },
  {
   "cell_type": "code",
   "execution_count": 102,
   "metadata": {
    "id": "tyKjLA_gYUYZ"
   },
   "outputs": [
    {
     "data": {
      "text/plain": [
       "array([1., 1., 0., ..., 0., 0., 1.])"
      ]
     },
     "execution_count": 102,
     "metadata": {},
     "output_type": "execute_result"
    }
   ],
   "source": [
    "# Display the predictions on the encoded testing set\n",
    "y_pred"
   ]
  },
  {
   "cell_type": "markdown",
   "metadata": {
    "id": "iXDp4m9dYlN3"
   },
   "source": [
    "Display the true labels of the testing set."
   ]
  },
  {
   "cell_type": "code",
   "execution_count": 104,
   "metadata": {
    "id": "JymZrHVDYdvu"
   },
   "outputs": [
    {
     "data": {
      "text/plain": [
       "31802        verified\n",
       "26842        verified\n",
       "6549     not verified\n",
       "21231        verified\n",
       "28088        verified\n",
       "             ...     \n",
       "836      not verified\n",
       "256      not verified\n",
       "2527     not verified\n",
       "4907     not verified\n",
       "21970        verified\n",
       "Name: verified_status, Length: 9720, dtype: object"
      ]
     },
     "execution_count": 104,
     "metadata": {},
     "output_type": "execute_result"
    }
   ],
   "source": [
    "# Display the true labels of the testing set\n",
    "y_test"
   ]
  },
  {
   "cell_type": "markdown",
   "metadata": {
    "id": "WM-HHIInem3Z"
   },
   "source": [
    "Encode the true labels of the testing set so it can be compared to the predictions."
   ]
  },
  {
   "cell_type": "code",
   "execution_count": 106,
   "metadata": {
    "id": "KNnYVZnjfJfz"
   },
   "outputs": [
    {
     "data": {
      "text/plain": [
       "array([1., 1., 0., ..., 0., 0., 1.])"
      ]
     },
     "execution_count": 106,
     "metadata": {},
     "output_type": "execute_result"
    }
   ],
   "source": [
    "# Encode the testing outcome variable\n",
    "# Notes:\n",
    "#   - Adjusting the shape of `y_test` before passing into `.transform()`, since it takes in 2D array\n",
    "#   - Using `.ravel()` to flatten the array returned by `.transform()`, so that it can be used later to compare with predictions\n",
    "y_test_encoded = y_encoder.fit_transform(y_test.values.reshape(-1, 1)).ravel()\n",
    "\n",
    "# Display the encoded testing outcome variable\n",
    "y_test_encoded"
   ]
  },
  {
   "cell_type": "markdown",
   "metadata": {
    "id": "IzdbI4A4mmHA"
   },
   "source": [
    "Confirm again that the dimensions of the training and testing sets are in alignment since additional features were added."
   ]
  },
  {
   "cell_type": "code",
   "execution_count": 108,
   "metadata": {
    "id": "WbbI5cSfmmHA"
   },
   "outputs": [
    {
     "name": "stdout",
     "output_type": "stream",
     "text": [
      "(22680, 9)\n",
      "(22680,)\n",
      "(9720, 9)\n",
      "(9720,)\n"
     ]
    }
   ],
   "source": [
    "# Get shape of each training and testing set\n",
    "print(X_train_final.shape)\n",
    "print(y_train_encoded.shape)\n",
    "print(X_test_final.shape)\n",
    "print(y_test_encoded.shape)"
   ]
  },
  {
   "cell_type": "markdown",
   "metadata": {
    "id": "IMQltTaQFnwv"
   },
   "source": [
    "### **Task 4b. Visualize model results**"
   ]
  },
  {
   "cell_type": "markdown",
   "metadata": {
    "id": "VVMG0ubSXQvS"
   },
   "source": [
    "Create a confusion matrix to visualize the results of the logistic regression model."
   ]
  },
  {
   "cell_type": "code",
   "execution_count": 111,
   "metadata": {
    "id": "ZPgiHdlyZCTf"
   },
   "outputs": [
    {
     "data": {
      "image/png": "[encoded data removed]",
      "text/plain": [
       "<Figure size 640x480 with 2 Axes>"
      ]
     },
     "metadata": {},
     "output_type": "display_data"
    }
   ],
   "source": [
    "# Compute values for confusion matrix\n",
    "cm = confusion_matrix(y_test_encoded, y_pred, labels=clf.classes_)\n",
    "\n",
    "# Create display of confusion matrix\n",
    "disp = ConfusionMatrixDisplay(confusion_matrix=cm, display_labels=clf.classes_)\n",
    "\n",
    "# Plot confusion matrix\n",
    "disp.plot()\n",
    "\n",
    "# Display plot\n",
    "plt.show()"
   ]
  },
  {
   "cell_type": "markdown",
   "metadata": {
    "id": "I6OmnATfbtNd"
   },
   "source": [
    "Create a classification report that includes precision, recall, f1-score, and accuracy metrics to evaluate the performance of the logistic regression model."
   ]
  },
  {
   "cell_type": "code",
   "execution_count": 113,
   "metadata": {
    "id": "AMxCzRa-bnUe"
   },
   "outputs": [
    {
     "name": "stdout",
     "output_type": "stream",
     "text": [
      "              precision    recall  f1-score   support\n",
      "\n",
      "    verified       0.76      0.49      0.59      4876\n",
      "not verified       0.62      0.85      0.72      4844\n",
      "\n",
      "    accuracy                           0.67      9720\n",
      "   macro avg       0.69      0.67      0.66      9720\n",
      "weighted avg       0.69      0.67      0.66      9720\n",
      "\n"
     ]
    }
   ],
   "source": [
    "# Create a classification report\n",
    "target_labels = ['verified', 'not verified']\n",
    "print(classification_report(y_test_encoded, y_pred, target_names=target_labels))"
   ]
  },
  {
   "cell_type": "markdown",
   "metadata": {
    "id": "IFY_y19EKQoO"
   },
   "source": [
    "### **Task 4c. Interpret model coefficients**"
   ]
  },
  {
   "cell_type": "code",
   "execution_count": 115,
   "metadata": {
    "id": "6TmRk8tz4JpG"
   },
   "outputs": [
    {
     "data": {
      "text/html": [
       "<div>\n",
       "<style scoped>\n",
       "    .dataframe tbody tr th:only-of-type {\n",
       "        vertical-align: middle;\n",
       "    }\n",
       "\n",
       "    .dataframe tbody tr th {\n",
       "        vertical-align: top;\n",
       "    }\n",
       "\n",
       "    .dataframe thead th {\n",
       "        text-align: right;\n",
       "    }\n",
       "</style>\n",
       "<table border=\"1\" class=\"dataframe\">\n",
       "  <thead>\n",
       "    <tr style=\"text-align: right;\">\n",
       "      <th></th>\n",
       "      <th>feature_name</th>\n",
       "      <th>model_coefficient</th>\n",
       "    </tr>\n",
       "  </thead>\n",
       "  <tbody>\n",
       "    <tr>\n",
       "      <th>0</th>\n",
       "      <td>video_duration_sec</td>\n",
       "      <td>-2.597088e-03</td>\n",
       "    </tr>\n",
       "    <tr>\n",
       "      <th>1</th>\n",
       "      <td>video_view_count</td>\n",
       "      <td>-2.745313e-07</td>\n",
       "    </tr>\n",
       "    <tr>\n",
       "      <th>2</th>\n",
       "      <td>video_like_count</td>\n",
       "      <td>-3.015738e-06</td>\n",
       "    </tr>\n",
       "    <tr>\n",
       "      <th>3</th>\n",
       "      <td>video_share_count</td>\n",
       "      <td>9.671308e-06</td>\n",
       "    </tr>\n",
       "    <tr>\n",
       "      <th>4</th>\n",
       "      <td>video_download_count</td>\n",
       "      <td>3.508537e-05</td>\n",
       "    </tr>\n",
       "    <tr>\n",
       "      <th>5</th>\n",
       "      <td>video_comment_count</td>\n",
       "      <td>1.296997e-04</td>\n",
       "    </tr>\n",
       "    <tr>\n",
       "      <th>6</th>\n",
       "      <td>claim_status_opinion</td>\n",
       "      <td>1.489066e+00</td>\n",
       "    </tr>\n",
       "    <tr>\n",
       "      <th>7</th>\n",
       "      <td>author_ban_status_banned</td>\n",
       "      <td>-5.522600e-01</td>\n",
       "    </tr>\n",
       "    <tr>\n",
       "      <th>8</th>\n",
       "      <td>author_ban_status_under review</td>\n",
       "      <td>-4.409241e-01</td>\n",
       "    </tr>\n",
       "  </tbody>\n",
       "</table>\n",
       "</div>"
      ],
      "text/plain": [
       "                     feature_name  model_coefficient\n",
       "0              video_duration_sec      -2.597088e-03\n",
       "1                video_view_count      -2.745313e-07\n",
       "2                video_like_count      -3.015738e-06\n",
       "3               video_share_count       9.671308e-06\n",
       "4            video_download_count       3.508537e-05\n",
       "5             video_comment_count       1.296997e-04\n",
       "6            claim_status_opinion       1.489066e+00\n",
       "7        author_ban_status_banned      -5.522600e-01\n",
       "8  author_ban_status_under review      -4.409241e-01"
      ]
     },
     "execution_count": 115,
     "metadata": {},
     "output_type": "execute_result"
    }
   ],
   "source": [
    "# Get the feature names from the model and the model coefficients (which represent log-odds ratios)\n",
    "# Place into a DataFrame for readability\n",
    "pd.DataFrame(data={'feature_name':clf.feature_names_in_, 'model_coefficient':clf.coef_[0]})"
   ]
  },
  {
   "cell_type": "markdown",
   "metadata": {
    "id": "P6AlDDyhdzmG"
   },
   "source": [
    "### **Task 4d. Conclusion**\n",
    "\n",
    "1. What are the key takeaways from this project?\n",
    "\n",
    "2. What results can be presented from this project?"
   ]
  },
  {
   "cell_type": "markdown",
   "metadata": {
    "id": "BzqJ13WAnt4R"
   },
   "source": [
    "1) Logistic regression provides an acceptable prediction of whether a video's author is verified or not. However, some variables were too highly correlated to maintain the assumptions for logistic regression, and so `video_like_count` was dropped from the model.\n",
    "   \n",
    "2) The recall of this model is quite strong at 85%. Other statistical characteristics are more mediocre at 67% accuracy and 62% precision."
   ]
  },
  {
   "cell_type": "markdown",
   "metadata": {},
   "source": [
    "**Congratulations!** You've completed this lab. However, you may not notice a green check mark next to this item on Coursera's platform. Please continue your progress regardless of the check mark. Just click on the \"save\" icon at the top of this notebook to ensure your work has been logged. "
   ]
  }
 ],
 "metadata": {
  "colab": {
   "provenance": []
  },
  "kernelspec": {
   "display_name": "Python 3 (ipykernel)",
   "language": "python",
   "name": "python3"
  },
  "language_info": {
   "codemirror_mode": {
    "name": "ipython",
    "version": 3
   },
   "file_extension": ".py",
   "mimetype": "text/x-python",
   "name": "python",
   "nbconvert_exporter": "python",
   "pygments_lexer": "ipython3",
   "version": "3.12.4"
  }
 },
 "nbformat": 4,
 "nbformat_minor": 4
}
